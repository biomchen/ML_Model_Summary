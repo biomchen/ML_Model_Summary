{
 "cells": [
  {
   "cell_type": "markdown",
   "metadata": {},
   "source": [
    "# **Ensemble Methods and Random Forests**\n",
    "---\n",
    "## **Summary**\n",
    "* **Ensemble methods**: **Wisdom of the crowd**: aggregating the predicitons of a group of predictors\n",
    "* **Voting**: hard vs soft\n",
    "* **Bagging** & **Pasting**: **boostrap aggregating** w/ and w/o replacement, respectively\n",
    "* **Boosting**: **hypothsis boosting**, correcting the predecessor prodictors during sequential training \n",
    "* **Stacking**: **stacked generalization**, training the model to aggregation\n",
    "* An ensemble of **Decision Trees** $\\Longrightarrow$ **Random Forest**\n",
    "* e.g., Netflix Prize Competition\n",
    "* <img src=\"images/4_training_diverse_classifiers.png\" width=500>\n",
    "\n",
    "## **References**\n",
    "1. Géron, A. 2017. Hands-Machine Learning with Scikit-Learn & TensorFlow. O'Reily Inc.             \n",
    "2. Grus, J. 2019. Data Science from Scratch. O'Reily Inc.\n",
    "3. Brenna, G. Random Forest, etc. slides. DS SEA 2020A.\n",
    "\n",
    "## **Concept**\n",
    "### **Voting Classifiers**\n",
    "* **Majority vote** $\\Longrightarrow$ **hard voting**: aggregating the predictions and predicting the class that gets the most votes.\n",
    "    * working best when the predictors are indepdent from each other\n",
    "    * using very different algorithms to imporve the ensemble's accuracy\n",
    "    <img src=\"images/4_majority_voting.png\" width=500>\n",
    "\n",
    "\n",
    "* **Soft vote**: Predicting the class with the highest class probability and averaging over all the individual classifier\n",
    "    * **only** if all classifiers have `predict_prob()`\n",
    "    \n",
    "### **Bagging and Pasting**\n",
    "* **Bagging** and **Pasting**: training on subsets of dataset\n",
    "* **Aggregation function**\n",
    "    * statistical (e.g., voting) model for classification\n",
    "    * averaging for regression\n",
    "* **Subsets**: instances _vs_ features\n",
    "    * **Random Patches**: instance + features (`boostrap=False` and `max_sample=1.0`)\n",
    "    * **Random Subspace**: featrues only (`boostrap_features=True` and `max_features<1.0`)\n",
    "* **Out-of-Bag** Evaluation (oob)\n",
    "    * `scikit-learn` `BaggingClassifier`\n",
    "        * 63% data were sampled on average for each predictor\n",
    "        * 37% data never sampled by the predictors\n",
    "        * set `oob_score=True`\n",
    "        \n",
    "### **Boosting**\n",
    "#### **AdaBoost (Adaptive boosting)**\n",
    "* Increasing the relative weight of misclassified training instances $\\Longrightarrow$ sequentially training the model with updated weights, so on.           \n",
    "* <img src=\"images/4_adaboosting.png\" width=400>\n",
    "* Algorithm:\n",
    "    * **initially**, $w^{(i)} = \\frac{1}{m}$, weighted error rate of the $j^{th}$ predictor      \n",
    "      $r_{j} = \\frac{\\displaystyle\\sum_{\\substack{i=1 \\\\\n",
    "                \\hat{y}_{j}^{(i)}\\neq{y^{(i)}}\n",
    "                }}^{m}w^{(i)}}\n",
    "                {\\displaystyle\\sum_{i=1}^{m}w^{(i)}}$\n",
    "        , where $\\hat{y}_{j}^{(i)}$ is the $j^{th}$ predictor's prediction fro the $i^{th}$ instance.\n",
    "    * **predictor weight**:\n",
    "      $\\alpha_{j} = \\eta log\\frac{1-r_j}{r_j}$\n",
    "        , the $\\alpha\\uparrow$, the more accurate the predictor is.\n",
    "    * **boosting** the misclassified instances with updated weights\\\n",
    "      $\\text{for i} = 1,2,..., m$\\\n",
    "      $w^{(i)}\\leftarrow\n",
    "                \\begin{cases}\n",
    "                w^{(i)}                 & \\text{if }\\hat{y}_{j}^{(i)} = y^{(i)} \\\\\n",
    "                w^{(i)}exp\\big(\\alpha_{j}\\big)  & \\text{if }\\hat{y}_{j}^{(i)}\\neq{y^{(i)}}\n",
    "                \\end{cases}$\\\n",
    "        then all the instance weights are normalized (i.e., divided by $\\sum_{i=1}^{m}w^{(i)}$).\n",
    "    * **stopping** until the desired number of predictors is reached, or a perfect predictor is found\n",
    "    * **prediction**: computing the predictors and weighs them using the predictor weights $\\alpha_{j}$.\\\n",
    "      $\\hat{y}(x) = argmax_c\n",
    "               \\displaystyle\\sum_{\\substack{j=1 \\\\\n",
    "                           \\hat{y}_{j}(x)= k\n",
    "                           }}^{N}\\alpha_{j}$\n",
    "        , where $N$ is the number of predictors\n",
    "    * `Scikit-Learn`: \n",
    "        * a multiclass version of AdaBoost called _SAMME_ (Stagwise Additive Modeling using a Multiclass Exponential loss function)\n",
    "        * _SAMME.R_ (R stands for 'Real') for estimating probabilities (if `predict_prob` exists)\n",
    "\n",
    "#### **Gradient Boosting**\n",
    "* fitting the new predictor to the _residual errors_ of the preceding predictor\n",
    "* **Gradient Tree Boosting** & **Gradient Boosted Regression Trees** (GBRT)\n",
    "* <img src=\"images/4_gradient_boosting.png\" width=500>\n",
    "* **shrinkage**: `learning_rate` $\\Longrightarrow$ not enough _vs_ too many\n",
    "* **optimization**: `staged_predict()`\n",
    "* **early stopping**: `warm_start=True` $\\Longrightarrow$ allowing incremental training\n",
    "* **XGBoost**: Extreme Gradient Boosting\n",
    "\n",
    "### **Stacking**\n",
    "* aggregating the predictions of all predictors\n",
    "* training based on all predictions as inputs $\\Longrightarrow$ _blender_ or _meta learner_\n",
    "\n",
    "### **Random Forests**\n",
    "* an ensemble of Decision Trees: bagging (generally) + pasting (sometimes)\n",
    "* `RandomForestClassifier` +  `RandomForestRegressor`\n",
    "* hyperparameters tunining: same as `DecisionTreeClassifier` + `BaggingClassifier`\n",
    "* **Extremely Randomized Trees** (Extra-Trees)\n",
    "    * Using random thresholds for each feature\n",
    "    * Trade-off: more bias for a lower variance\n",
    "    * Faster than tahn regular Random Forests\n",
    "* feature importance\n",
    "    * measuring how much the tree nodes reduce impurity (Gini) on average (across all trees in the forest)\n",
    "* **handy to understand feature importance for performing feature selection**"
   ]
  },
  {
   "cell_type": "markdown",
   "metadata": {},
   "source": [
    "## **Examples**\n",
    "### **Voting Classifier**"
   ]
  },
  {
   "cell_type": "code",
   "execution_count": 3,
   "metadata": {},
   "outputs": [],
   "source": [
    "import numpy as np\n",
    "from sklearn.datasets import make_moons # using the moons datasets\n",
    "from sklearn.model_selection import train_test_split\n",
    "from sklearn.ensemble import RandomForestClassifier, VotingClassifier\n",
    "from sklearn.linear_model import LogisticRegression\n",
    "from sklearn.svm import SVC\n",
    "from sklearn.metrics import accuracy_score\n",
    "import matplotlib.pyplot as plt\n",
    "\n",
    "%matplotlib inline"
   ]
  },
  {
   "cell_type": "code",
   "execution_count": 4,
   "metadata": {},
   "outputs": [
    {
     "name": "stdout",
     "output_type": "stream",
     "text": [
      "Results of Hard Voting:\n",
      "LogisticRegression 0.82\n",
      "RandomForestClassifier 0.905\n",
      "SVC 0.915\n",
      "VotingClassifier 0.9\n",
      "Results of Soft Voting:\n",
      "LogisticRegression 0.82\n",
      "RandomForestClassifier 0.905\n",
      "SVC 0.915\n",
      "VotingClassifier 0.905\n"
     ]
    }
   ],
   "source": [
    "df_moons = make_moons(n_samples=1000, noise=0.30, random_state=45)\n",
    "X = df_moons[0]\n",
    "y = df_moons[1]\n",
    "\n",
    "X_train, X_test, y_train, y_test = train_test_split(X, y, test_size = 0.2, random_state =45)\n",
    "\n",
    "log_clf = LogisticRegression(solver='lbfgs', random_state=45)\n",
    "rnd_clf = RandomForestClassifier(n_estimators=100, random_state=45)\n",
    "svm_clf_hard = SVC(gamma='scale', random_state=45)\n",
    "svm_clf_soft = SVC(gamma='scale', probability=True, random_state=45)\n",
    "\n",
    "# Hard voting\n",
    "voting_clf_hard = VotingClassifier(\n",
    "    estimators=[('lr', log_clf), ('rf', rnd_clf), ('svc', svm_clf_hard)],\n",
    "    voting = 'hard'\n",
    ")\n",
    "voting_clf_hard.fit(X_train, y_train)\n",
    "print(\"Results of Hard Voting:\")\n",
    "for clf in (log_clf, rnd_clf, svm_clf_hard, voting_clf_hard):\n",
    "    clf.fit(X_train, y_train)\n",
    "    y_pred = clf.predict(X_test)\n",
    "    print(clf.__class__.__name__, accuracy_score(y_test, y_pred))\n",
    "\n",
    "# soft voting\n",
    "voting_clf_soft = VotingClassifier(\n",
    "    estimators=[('lr', log_clf), ('rf', rnd_clf), ('svc', svm_clf_soft)],\n",
    "    voting = 'soft'\n",
    ")\n",
    "voting_clf_soft.fit(X_train, y_train)\n",
    "\n",
    "print(\"Results of Soft Voting:\")\n",
    "for clf in (log_clf, rnd_clf, svm_clf_soft, voting_clf_soft):\n",
    "    clf.fit(X_train, y_train)\n",
    "    y_pred = clf.predict(X_test)\n",
    "    print(clf.__class__.__name__, accuracy_score(y_test, y_pred))"
   ]
  },
  {
   "cell_type": "markdown",
   "metadata": {},
   "source": [
    "### **Bagging and Pasting** "
   ]
  },
  {
   "cell_type": "code",
   "execution_count": null,
   "metadata": {},
   "outputs": [],
   "source": [
    "from sklearn.ensemble import BaggingClassifier\n",
    "from sklearn.tree import DecisionTreeClassifier\n",
    "from sklearn.metrics import accuracy_score"
   ]
  },
  {
   "cell_type": "code",
   "execution_count": 13,
   "metadata": {},
   "outputs": [
    {
     "name": "stdout",
     "output_type": "stream",
     "text": [
      "The accuracy of boostrap aggregation of decision trees is  0.915\n",
      "The accuracy of random forests is  0.865\n"
     ]
    }
   ],
   "source": [
    "# bagging of the decision trees\n",
    "bag_clf = BaggingClassifier(\n",
    "    DecisionTreeClassifier(), \n",
    "    n_estimators=500, # 500 classifiers\n",
    "    max_samples=80, # 80 instances randomly sampled from training set with replacement\n",
    "    bootstrap=True, \n",
    "    n_jobs=-1 # the number of CPU cores to use (-1 indicate all cores)\n",
    ") \n",
    "bag_clf.fit(X_train, y_train)\n",
    "y_pred = bag_clf.predict(X_test)\n",
    "\n",
    "print('The accuracy of boostrap aggregation of decision trees is ', accuracy_score(y_test, y_pred))\n",
    "\n",
    "# Random forests\n",
    "tree_clf = DecisionTreeClassifier(random_state=42)\n",
    "tree_clf.fit(X_train, y_train)\n",
    "y_pred_tree = tree_clf.predict(X_test)\n",
    "\n",
    "print('The accuracy of random forests is ', accuracy_score(y_test, y_pred_tree))"
   ]
  },
  {
   "cell_type": "code",
   "execution_count": 18,
   "metadata": {
    "jupyter": {
     "source_hidden": true
    }
   },
   "outputs": [
    {
     "data": {
      "image/png": "[encoded data removed]",
      "text/plain": [
       "<Figure size 720x288 with 2 Axes>"
      ]
     },
     "metadata": {
      "needs_background": "light"
     },
     "output_type": "display_data"
    }
   ],
   "source": [
    "from matplotlib.colors import ListedColormap\n",
    "\n",
    "def plot_decision_boundary(clf, X, y, axes=[-1.5, 2.45, -1, 1.5], alpha=0.5, contour=True):\n",
    "    x1s = np.linspace(axes[0], axes[1], 100)\n",
    "    x2s = np.linspace(axes[2], axes[3], 100)\n",
    "    x1, x2 = np.meshgrid(x1s, x2s)\n",
    "    X_new = np.c_[x1.ravel(), x2.ravel()]\n",
    "    y_pred = clf.predict(X_new).reshape(x1.shape)\n",
    "    custom_cmap = ListedColormap(['#fafab0','#9898ff','#a0faa0'])\n",
    "    plt.contourf(x1, x2, y_pred, alpha=0.3, cmap=custom_cmap)\n",
    "    if contour:\n",
    "        custom_cmap2 = ListedColormap(['#7d7d58','#4c4c7f','#507d50'])\n",
    "        plt.contour(x1, x2, y_pred, cmap=custom_cmap2, alpha=0.8)\n",
    "    plt.plot(X[:, 0][y==0], X[:, 1][y==0], \"yo\", alpha=alpha)\n",
    "    plt.plot(X[:, 0][y==1], X[:, 1][y==1], \"bs\", alpha=alpha)\n",
    "    plt.axis(axes)\n",
    "    plt.xlabel(r\"$x_1$\", fontsize=18)\n",
    "    plt.ylabel(r\"$x_2$\", fontsize=18, rotation=0)\n",
    "\n",
    "fix, axes = plt.subplots(1, 2, figsize=(10, 4), sharey=True)\n",
    "plt.sca(axes[0])\n",
    "plot_decision_boundary(tree_clf, X, y)\n",
    "plt.title(\"Decision Tree\", fontsize=14)\n",
    "plt.sca(axes[1])\n",
    "plot_decision_boundary(bag_clf, X, y)\n",
    "plt.title(\"Decision Trees with Bagging\", fontsize=14)\n",
    "plt.ylabel(\"\")\n",
    "plt.show()"
   ]
  },
  {
   "cell_type": "markdown",
   "metadata": {},
   "source": [
    "#### **Out-of-Bag Evaluation**"
   ]
  },
  {
   "cell_type": "code",
   "execution_count": 6,
   "metadata": {},
   "outputs": [
    {
     "name": "stdout",
     "output_type": "stream",
     "text": [
      "Out-of-Bag score: 0.95\n",
      "Accuracy socre: 1.0\n",
      "Out-of-Bag Decision Function: [[0.         1.        ]\n",
      " [0.00540541 0.99459459]\n",
      " [1.         0.        ]\n",
      " [0.91326531 0.08673469]\n",
      " [0.06508876 0.93491124]\n",
      " [0.         1.        ]\n",
      " [0.05945946 0.94054054]\n",
      " [0.9950495  0.0049505 ]\n",
      " [0.86813187 0.13186813]\n",
      " [0.         1.        ]\n",
      " [1.         0.        ]\n",
      " [0.         1.        ]\n",
      " [0.45294118 0.54705882]\n",
      " [0.0960452  0.9039548 ]\n",
      " [0.16939891 0.83060109]\n",
      " [1.         0.        ]\n",
      " [0.08823529 0.91176471]\n",
      " [0.1        0.9       ]\n",
      " [0.13714286 0.86285714]\n",
      " [0.87978142 0.12021858]\n",
      " [0.95604396 0.04395604]\n",
      " [0.         1.        ]\n",
      " [0.05617978 0.94382022]\n",
      " [0.22099448 0.77900552]\n",
      " [0.48913043 0.51086957]\n",
      " [0.9516129  0.0483871 ]\n",
      " [0.77245509 0.22754491]\n",
      " [0.87830688 0.12169312]\n",
      " [1.         0.        ]\n",
      " [0.         1.        ]\n",
      " [0.92195122 0.07804878]\n",
      " [0.05660377 0.94339623]\n",
      " [1.         0.        ]\n",
      " [1.         0.        ]\n",
      " [0.70621469 0.29378531]\n",
      " [0.05699482 0.94300518]\n",
      " [0.08571429 0.91428571]\n",
      " [1.         0.        ]\n",
      " [1.         0.        ]\n",
      " [0.4010989  0.5989011 ]\n",
      " [0.65104167 0.34895833]\n",
      " [0.87845304 0.12154696]\n",
      " [0.98830409 0.01169591]\n",
      " [0.855      0.145     ]\n",
      " [0.         1.        ]\n",
      " [0.7245509  0.2754491 ]\n",
      " [0.89325843 0.10674157]\n",
      " [0.         1.        ]\n",
      " [0.         1.        ]\n",
      " [0.07253886 0.92746114]\n",
      " [1.         0.        ]\n",
      " [0.         1.        ]\n",
      " [0.         1.        ]\n",
      " [0.         1.        ]\n",
      " [0.         1.        ]\n",
      " [1.         0.        ]\n",
      " [1.         0.        ]\n",
      " [1.         0.        ]\n",
      " [0.39181287 0.60818713]\n",
      " [1.         0.        ]\n",
      " [0.90285714 0.09714286]\n",
      " [0.47340426 0.52659574]\n",
      " [1.         0.        ]\n",
      " [0.56937799 0.43062201]\n",
      " [1.         0.        ]\n",
      " [0.         1.        ]\n",
      " [0.87096774 0.12903226]\n",
      " [0.83838384 0.16161616]\n",
      " [0.         1.        ]\n",
      " [0.92513369 0.07486631]\n",
      " [0.         1.        ]\n",
      " [0.00561798 0.99438202]\n",
      " [1.         0.        ]\n",
      " [0.98823529 0.01176471]\n",
      " [0.95238095 0.04761905]\n",
      " [0.         1.        ]\n",
      " [1.         0.        ]\n",
      " [1.         0.        ]\n",
      " [0.         1.        ]\n",
      " [1.         0.        ]]\n"
     ]
    }
   ],
   "source": [
    "bag_clf = BaggingClassifier(\n",
    "    DecisionTreeClassifier(), \n",
    "    n_estimators=500, \n",
    "    max_samples=80, \n",
    "    bootstrap=True, \n",
    "    n_jobs=-1, \n",
    "    oob_score=True\n",
    ")\n",
    "bag_clf.fit(X_train, y_train)\n",
    "print('Out-of-Bag score:', bag_clf.oob_score_)\n",
    "\n",
    "from sklearn.metrics import accuracy_score\n",
    "y_pred = bag_clf.predict(X_test)\n",
    "print('Accuracy socre:', accuracy_score(y_test, y_pred))\n",
    "\n",
    "print('Out-of-Bag Decision Function:', bag_clf.oob_decision_function_[:])"
   ]
  },
  {
   "cell_type": "markdown",
   "metadata": {},
   "source": [
    "### **Random Forests**"
   ]
  },
  {
   "cell_type": "code",
   "execution_count": 7,
   "metadata": {},
   "outputs": [],
   "source": [
    "from sklearn.ensemble import RandomForestClassifier\n",
    "\n",
    "rnd_clf = RandomForestClassifier(n_estimators = 500, max_leaf_nodes = 16, n_jobs = -1)\n",
    "rnd_clf.fit(X_train, y_train)\n",
    "\n",
    "y_pred = rnd_clf.predict(X_test)\n",
    "\n",
    "# equal to bagging method as below\n",
    "bag_clf = BaggingClassifier(DecisionTreeClassifier(splitter='random', max_leaf_nodes=16),\n",
    "                           n_estimators = 500, max_samples = 1.0, bootstrap = True, n_jobs = -1)"
   ]
  },
  {
   "cell_type": "markdown",
   "metadata": {},
   "source": [
    "#### **Extremely Randomized Trees (Extra-Trees)**"
   ]
  },
  {
   "cell_type": "markdown",
   "metadata": {},
   "source": [
    "#### **Feature Importance**"
   ]
  },
  {
   "cell_type": "code",
   "execution_count": 8,
   "metadata": {},
   "outputs": [
    {
     "name": "stdout",
     "output_type": "stream",
     "text": [
      "sepal length (cm) 0.08627603608936044\n",
      "sepal width (cm) 0.02230614110986166\n",
      "petal length (cm) 0.4376025458314549\n",
      "petal width (cm) 0.45381527696932306\n"
     ]
    }
   ],
   "source": [
    "# Iris dataset\n",
    "from sklearn.datasets import load_iris\n",
    "iris = load_iris()\n",
    "rnd_clf = RandomForestClassifier(n_estimators = 500, n_jobs = -1)\n",
    "rnd_clf.fit(iris[\"data\"], iris['target'])\n",
    "for name, score in zip(iris['feature_names'], rnd_clf.feature_importances_):\n",
    "    print(name, score)"
   ]
  },
  {
   "cell_type": "code",
   "execution_count": 9,
   "metadata": {},
   "outputs": [
    {
     "name": "stdout",
     "output_type": "stream",
     "text": [
      "/Users/mengchen/scikit_learn_data\n"
     ]
    }
   ],
   "source": [
    "# MINST dataset example\n",
    "\n",
    "# find the data location of the Scikit-Learn Data\n",
    "from sklearn.datasets.base import get_data_home \n",
    "print (get_data_home())\n",
    "\n",
    "from sklearn.datasets import fetch_mldata\n",
    "#mnist = fetch_mldata('MNIST original')\n",
    "#X, y = mnist['data'], mnist['target']\n",
    "\n",
    "#rnd_clf.fit(X, y)\n",
    "#feature_score = rnd_clf.feature_importances_\n"
   ]
  },
  {
   "cell_type": "markdown",
   "metadata": {},
   "source": [
    "### **Boosting**"
   ]
  },
  {
   "cell_type": "markdown",
   "metadata": {},
   "source": [
    "#### **AdoBoosting**"
   ]
  },
  {
   "cell_type": "code",
   "execution_count": 10,
   "metadata": {},
   "outputs": [
    {
     "data": {
      "text/plain": [
       "AdaBoostClassifier(algorithm='SAMME.R',\n",
       "          base_estimator=DecisionTreeClassifier(class_weight=None, criterion='gini', max_depth=1,\n",
       "            max_features=None, max_leaf_nodes=None,\n",
       "            min_impurity_decrease=0.0, min_impurity_split=None,\n",
       "            min_samples_leaf=1, min_samples_split=2,\n",
       "            min_weight_fraction_leaf=0.0, presort=False, random_state=None,\n",
       "            splitter='best'),\n",
       "          learning_rate=0.5, n_estimators=200, random_state=None)"
      ]
     },
     "execution_count": 10,
     "metadata": {},
     "output_type": "execute_result"
    }
   ],
   "source": [
    "from sklearn.ensemble import AdaBoostClassifier\n",
    "\n",
    "ada_clf = AdaBoostClassifier(DecisionTreeClassifier(max_depth = 1),  # max_depth --> Decision Stump is a Decision Tree with max_depth = 1: A tree composed of \n",
    "                             n_estimators = 200,                     # a single decision node plus two leaf nodes\n",
    "                             algorithm = 'SAMME.R',                  # If AdaBoost ensemble is overfitting, try reducing the number of estimators or more strongly\n",
    "                             learning_rate = 0.5)                    # regularizing the base estimator\n",
    "ada_clf.fit(X_train, y_train)"
   ]
  },
  {
   "cell_type": "markdown",
   "metadata": {},
   "source": [
    "#### **Gradient Boosting**"
   ]
  },
  {
   "cell_type": "code",
   "execution_count": 10,
   "metadata": {},
   "outputs": [
    {
     "ename": "NameError",
     "evalue": "name 'X_new' is not defined",
     "output_type": "error",
     "traceback": [
      "\u001b[0;31m---------------------------------------------------------------------------\u001b[0m",
      "\u001b[0;31mNameError\u001b[0m                                 Traceback (most recent call last)",
      "\u001b[0;32m<ipython-input-10-7320329d2ad7>\u001b[0m in \u001b[0;36m<module>\u001b[0;34m\u001b[0m\n\u001b[1;32m     12\u001b[0m \u001b[0mtree_reg3\u001b[0m\u001b[0;34m.\u001b[0m\u001b[0mfit\u001b[0m\u001b[0;34m(\u001b[0m\u001b[0mX\u001b[0m\u001b[0;34m,\u001b[0m \u001b[0my3\u001b[0m\u001b[0;34m)\u001b[0m\u001b[0;34m\u001b[0m\u001b[0;34m\u001b[0m\u001b[0m\n\u001b[1;32m     13\u001b[0m \u001b[0;34m\u001b[0m\u001b[0m\n\u001b[0;32m---> 14\u001b[0;31m \u001b[0my_pred\u001b[0m \u001b[0;34m=\u001b[0m \u001b[0msum\u001b[0m\u001b[0;34m(\u001b[0m\u001b[0mtree\u001b[0m\u001b[0;34m.\u001b[0m\u001b[0mpredict\u001b[0m\u001b[0;34m(\u001b[0m\u001b[0mX_new\u001b[0m\u001b[0;34m)\u001b[0m \u001b[0;32mfor\u001b[0m \u001b[0mtree\u001b[0m \u001b[0;32min\u001b[0m \u001b[0;34m(\u001b[0m\u001b[0mtree_reg1\u001b[0m\u001b[0;34m,\u001b[0m \u001b[0mtree_reg2\u001b[0m\u001b[0;34m,\u001b[0m \u001b[0mtree_reg3\u001b[0m\u001b[0;34m)\u001b[0m\u001b[0;34m)\u001b[0m\u001b[0;34m\u001b[0m\u001b[0;34m\u001b[0m\u001b[0m\n\u001b[0m\u001b[1;32m     15\u001b[0m \u001b[0;34m\u001b[0m\u001b[0m\n\u001b[1;32m     16\u001b[0m \u001b[0;31m# ALTERNATIVE Approach\u001b[0m\u001b[0;34m\u001b[0m\u001b[0;34m\u001b[0m\u001b[0;34m\u001b[0m\u001b[0m\n",
      "\u001b[0;32m<ipython-input-10-7320329d2ad7>\u001b[0m in \u001b[0;36m<genexpr>\u001b[0;34m(.0)\u001b[0m\n\u001b[1;32m     12\u001b[0m \u001b[0mtree_reg3\u001b[0m\u001b[0;34m.\u001b[0m\u001b[0mfit\u001b[0m\u001b[0;34m(\u001b[0m\u001b[0mX\u001b[0m\u001b[0;34m,\u001b[0m \u001b[0my3\u001b[0m\u001b[0;34m)\u001b[0m\u001b[0;34m\u001b[0m\u001b[0;34m\u001b[0m\u001b[0m\n\u001b[1;32m     13\u001b[0m \u001b[0;34m\u001b[0m\u001b[0m\n\u001b[0;32m---> 14\u001b[0;31m \u001b[0my_pred\u001b[0m \u001b[0;34m=\u001b[0m \u001b[0msum\u001b[0m\u001b[0;34m(\u001b[0m\u001b[0mtree\u001b[0m\u001b[0;34m.\u001b[0m\u001b[0mpredict\u001b[0m\u001b[0;34m(\u001b[0m\u001b[0mX_new\u001b[0m\u001b[0;34m)\u001b[0m \u001b[0;32mfor\u001b[0m \u001b[0mtree\u001b[0m \u001b[0;32min\u001b[0m \u001b[0;34m(\u001b[0m\u001b[0mtree_reg1\u001b[0m\u001b[0;34m,\u001b[0m \u001b[0mtree_reg2\u001b[0m\u001b[0;34m,\u001b[0m \u001b[0mtree_reg3\u001b[0m\u001b[0;34m)\u001b[0m\u001b[0;34m)\u001b[0m\u001b[0;34m\u001b[0m\u001b[0;34m\u001b[0m\u001b[0m\n\u001b[0m\u001b[1;32m     15\u001b[0m \u001b[0;34m\u001b[0m\u001b[0m\n\u001b[1;32m     16\u001b[0m \u001b[0;31m# ALTERNATIVE Approach\u001b[0m\u001b[0;34m\u001b[0m\u001b[0;34m\u001b[0m\u001b[0;34m\u001b[0m\u001b[0m\n",
      "\u001b[0;31mNameError\u001b[0m: name 'X_new' is not defined"
     ]
    }
   ],
   "source": [
    "from sklearn.tree import DecisionTreeRegressor\n",
    "\n",
    "tree_reg1 = DecisionTreeRegressor(max_depth=2)\n",
    "tree_reg1.fit(X, y)\n",
    "\n",
    "y2 = y - tree_reg1.predict(X)\n",
    "tree_reg2 = DecisionTreeRegressor(max_depth=2)\n",
    "tree_reg2.fit(X, y2)\n",
    "\n",
    "y3 = y2 - tree_reg2.predict(X)\n",
    "tree_reg3 = DecisionTreeRegressor(max_depth=2)\n",
    "tree_reg3.fit(X, y3)\n",
    "\n",
    "y_pred = sum(tree.predict(X_new) for tree in (tree_reg1, tree_reg2, tree_reg3))\n",
    "\n",
    "# ALTERNATIVE Approach\n",
    "from sklearn.ensemble import GradientBoostingRegressor\n",
    "\n",
    "gbrt = GradientBoostingRegressor(max_depth =  2, n_estimators = 3, learning_rate = 1.0)\n",
    "gbrt.fit(X, y)"
   ]
  },
  {
   "cell_type": "markdown",
   "metadata": {},
   "source": [
    "<img src='fig7_9.png' width = 500>"
   ]
  },
  {
   "cell_type": "markdown",
   "metadata": {},
   "source": [
    "#### <font color=orange>***5.2.1 Shrinkage***</font>: setting the learning_rate hyperparameter low to generate more trees for better predictions\n",
    "<img src='fig7_10.png' width=500>"
   ]
  },
  {
   "cell_type": "markdown",
   "metadata": {},
   "source": [
    "#### <font color=orange>***5.2.2 Optimal Number of Trees***</font>\n",
    "* <font size=3>using <font color=brown>*staged_predict()*</font> method, measuring the validation error at each stage of training to find the optimal number of trees, and finally train another GBRT ensemble using the optimal number of trees</font>"
   ]
  },
  {
   "cell_type": "code",
   "execution_count": 13,
   "metadata": {},
   "outputs": [
    {
     "ename": "NameError",
     "evalue": "name 'GradientBoostingRegressor' is not defined",
     "output_type": "error",
     "traceback": [
      "\u001b[0;31m---------------------------------------------------------------------------\u001b[0m",
      "\u001b[0;31mNameError\u001b[0m                                 Traceback (most recent call last)",
      "\u001b[0;32m<ipython-input-13-6dfe7d0708e0>\u001b[0m in \u001b[0;36m<module>\u001b[0;34m\u001b[0m\n\u001b[1;32m      5\u001b[0m \u001b[0mX_train\u001b[0m\u001b[0;34m,\u001b[0m \u001b[0mX_val\u001b[0m\u001b[0;34m,\u001b[0m \u001b[0my_train\u001b[0m\u001b[0;34m,\u001b[0m \u001b[0my_val\u001b[0m \u001b[0;34m=\u001b[0m \u001b[0mtrain_test_split\u001b[0m\u001b[0;34m(\u001b[0m\u001b[0mX\u001b[0m\u001b[0;34m,\u001b[0m \u001b[0my\u001b[0m\u001b[0;34m)\u001b[0m\u001b[0;34m\u001b[0m\u001b[0;34m\u001b[0m\u001b[0m\n\u001b[1;32m      6\u001b[0m \u001b[0;34m\u001b[0m\u001b[0m\n\u001b[0;32m----> 7\u001b[0;31m \u001b[0mgbrt\u001b[0m \u001b[0;34m=\u001b[0m \u001b[0mGradientBoostingRegressor\u001b[0m\u001b[0;34m(\u001b[0m\u001b[0mmax_depth\u001b[0m\u001b[0;34m=\u001b[0m\u001b[0;36m2\u001b[0m\u001b[0;34m,\u001b[0m \u001b[0mn_estimators\u001b[0m\u001b[0;34m=\u001b[0m\u001b[0;36m120\u001b[0m\u001b[0;34m)\u001b[0m\u001b[0;34m\u001b[0m\u001b[0;34m\u001b[0m\u001b[0m\n\u001b[0m\u001b[1;32m      8\u001b[0m \u001b[0mgbrt\u001b[0m\u001b[0;34m.\u001b[0m\u001b[0mfit\u001b[0m\u001b[0;34m(\u001b[0m\u001b[0mX_train\u001b[0m\u001b[0;34m,\u001b[0m \u001b[0my_train\u001b[0m\u001b[0;34m)\u001b[0m\u001b[0;34m\u001b[0m\u001b[0;34m\u001b[0m\u001b[0m\n\u001b[1;32m      9\u001b[0m \u001b[0;34m\u001b[0m\u001b[0m\n",
      "\u001b[0;31mNameError\u001b[0m: name 'GradientBoostingRegressor' is not defined"
     ]
    }
   ],
   "source": [
    "import numpy as np\n",
    "from sklearn.model_selection import train_test_split\n",
    "from sklearn.metrics import mean_squared_error\n",
    "\n",
    "X_train, X_val, y_train, y_val = train_test_split(X, y)\n",
    "\n",
    "gbrt = GradientBoostingRegressor(max_depth=2, n_estimators=120)\n",
    "gbrt.fit(X_train, y_train)\n",
    "\n",
    "errors = [mean_squred_error(y_val, y_pred)\n",
    "          for y_pred in gbrt.predict(X_val)]\n",
    "bst_n_estimators =  np.argmin(errors)\n",
    "\n",
    "gbrt_best = GradientBoostingRegressor(max_depth=2, n_estimators=bst_n_estimators)\n",
    "gbrt_best.fit(X_train, y_train)"
   ]
  },
  {
   "cell_type": "markdown",
   "metadata": {},
   "source": [
    "* <font size=3>Early Stopping Implementation: setting <font color=green>*warm_start</font>=True*, keeping exsiting trees when the <font color=green>_fit()_</font> method is called</font>\n",
    "* <font size=3 color=brown>Stochastic Gradient Boosting</font>\n",
    "    * <font size=3>hyperparameter <font color=green>*subsample*</font>: specifies the fraction of training instances</font>\n",
    "    * <font size=3>Trading a high bias for a lower variance</font>\n",
    "    * <font size=3>Speeding up training</font>"
   ]
  },
  {
   "cell_type": "code",
   "execution_count": null,
   "metadata": {},
   "outputs": [],
   "source": [
    "gbrt = GradientBoostingRegressor(max_depth = 2, warm_start = True)\n",
    "\n",
    "min_val_error = float('inf')\n",
    "error_going_up = 0\n",
    "for n_estimators in range(1, 120):\n",
    "    gbrt.n_estimators =  n_estimators\n",
    "    gbrt.fit(X_train, y_train)\n",
    "    y_pred = gbrt.predict(X_val)\n",
    "    val_error = mean_squared_error(y_val, y_pred)\n",
    "    if val_error < min_val_error:\n",
    "        min_val_error = val_error\n",
    "        error_going_up = 0\n",
    "    else:\n",
    "        error_going_up += 1\n",
    "        if error_going_up == 5: # if when the validation error does not improve for five iterations in a row\n",
    "            break # early stopping\n"
   ]
  },
  {
   "cell_type": "markdown",
   "metadata": {},
   "source": [
    "### **Stacking**"
   ]
  },
  {
   "cell_type": "code",
   "execution_count": null,
   "metadata": {},
   "outputs": [],
   "source": []
  }
 ],
 "metadata": {
  "kernelspec": {
   "display_name": "Python 3",
   "language": "python",
   "name": "python3"
  },
  "language_info": {
   "codemirror_mode": {
    "name": "ipython",
    "version": 3
   },
   "file_extension": ".py",
   "mimetype": "text/x-python",
   "name": "python",
   "nbconvert_exporter": "python",
   "pygments_lexer": "ipython3",
   "version": "3.6.8"
  }
 },
 "nbformat": 4,
 "nbformat_minor": 4
}
