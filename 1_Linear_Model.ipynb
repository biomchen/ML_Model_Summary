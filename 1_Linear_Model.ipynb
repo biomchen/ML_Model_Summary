{
 "cells": [
  {
   "cell_type": "markdown",
   "metadata": {},
   "source": [
    "# **Linear Model**\n",
    "---\n",
    "## **Summary**\n",
    "to be added ..\n",
    "    \n",
    "## **References**\n",
    "1. Goodfellow, I., Bengio, Y., Courville, A. 2016. Deep Learning. MIT Press.\n",
    "2. Geron, A. 2017. Hands-On Machine Learning with Scikit-Learn & TensorFlow. O'Reily.\n",
    "3. Albon, C. 2018. Python Machine Learning Cookbook. O'Reily.\n",
    "4. IBM Data Science Professional Certificate Program. 2018. \n",
    "5. MIT Data Science and Big Data Cerfiticate Program. 2019.\n",
    "\n",
    "## **Concept**\n",
    "### **Linear Regression**\n",
    "### Simple Linear Regression\n",
    "* The predictor/independent variable (X)\n",
    "* The response/dependent variable (that we want to predict)(Y)\n",
    "* $\\hat{Y} = a + b\\cdot{X}$\n",
    "    \n",
    "### Multiple Linear Regression\n",
    "* multiple predictor (independent) variable predictions\n",
    "* $\\hat{Y} = a + b_1 X_1 + b_2 X_2 + b_3 X_3 + b_4 X_4$\n",
    "* **Evaluation**: *distribution plot*\n",
    "\n",
    "### Residual Plot\n",
    "* Difference between Y and $\\hat{Y}$.\n",
    "* Random spreaded out residuals $\\Longrightarrow$ *constant variance* $\\Longrightarrow$ **good** fit\n",
    "\n",
    "### 4. Polynomial Regression\n",
    "\n",
    "**Polynomial regression** is a particular case of the general linear regression model or multiple linear regression models. \n",
    "We get non-linear relationships by squaring or setting higher-order terms of the predictor variables.\n",
    "\n",
    "There are different orders of polynomial regression:\n",
    "\n",
    "<center>**Quadratic - 2nd order**</center>\n",
    "\n",
    "\n",
    " \\begin{equation*}\n",
    "Yhat = a + b_1 X^2 +b_2 X^2 \n",
    "\\\\\n",
    "\\end{equation*}\n",
    "\n",
    "\n",
    " <center>**Cubic - 3rd order**</center>\n",
    " \n",
    " \n",
    " \\begin{equation*}\n",
    "Yhat = a + b_1 X^2 +b_2 X^2 +b_3 X^3\\\\\n",
    "\\end{equation*}\n",
    "\n",
    "<center> **Higher order**:</center>\n",
    "\n",
    "\n",
    " \\begin{equation*}\n",
    "Y = a + b_1 X^2 +b_2 X^2 +b_3 X^3 ....\\\\\n",
    "\\end{equation*}\n",
    "\n",
    "### 5. Pipelines\n",
    "Data Pipelines simplify the steps of processing the data. We use the module  **Pipeline** to create a pipeline. We also use **StandardScaler** as a step in our pipeline.\n",
    "\n",
    "### 6. Measures for In-Sample Evaluation\n",
    "\n",
    "When evaluating our models, not only do we want to visualise the results, but we also want a quantitative measure to determine how accurate the model is.\n",
    "\n",
    "Two very important measures that are often used in Statistics to determine the accuracy of a model are:\n",
    "\n",
    "- **$R^2$ / R-squared**\n",
    "- **Mean Squared Error (MSE)**\n",
    "\n",
    "**R-squared**\n",
    "\n",
    "R squared, also known as the coefficient of determination, is a measure to indicate how close the data is to the fitted regression line.\n",
    "The value of the R-squared is the percentage of variation of the response variable (y) that is explained by a linear model.\n",
    "\n",
    "\n",
    "\n",
    "**Mean Squared Error (MSE)**\n",
    "\n",
    "The Mean Squared Error measures the average of the squares of errors, that is, the difference between actual value (y) and the estimated value (ŷ)."
   ]
  },
  {
   "cell_type": "code",
   "execution_count": 3,
   "metadata": {},
   "outputs": [],
   "source": [
    "# Simple linear regression\n",
    "# import basic python libraries\n",
    "import matplotlib.pyplot as plt\n",
    "import numpy as np\n",
    "import seaborn as sns\n",
    "import pandas as pd\n",
    "from sklearn.linear_model import LinearRegression\n",
    "%matplotlib inline"
   ]
  },
  {
   "cell_type": "code",
   "execution_count": null,
   "metadata": {},
   "outputs": [],
   "source": [
    "lm = LinearRegression()\n",
    "lm\n",
    "\n",
    "X = df[['highway-mpg']]\n",
    "y = df['price']\n",
    "\n",
    "yhat=lm.predict(X)\n",
    "\n",
    "lm.intercept_\n",
    "lm.coef_"
   ]
  },
  {
   "cell_type": "code",
   "execution_count": null,
   "metadata": {},
   "outputs": [],
   "source": [
    "# e.g.,\n",
    "Z = df[['horsepower', 'curb-weight', 'engine-size', 'highway-mpg']]\n",
    "yhat = lm.predict(Z)\n",
    "\n",
    "plt.figure(figsize=(width, height))\n",
    "\n",
    "ax1 = sns.distplot(df['price'], hist=False, color=\"r\", label=\"Actual Value\")\n",
    "sns.distplot(Yhat, hist=False, color=\"b\", label=\"Fitted Values\" , ax=ax1)\n",
    "\n",
    "plt.title('Actual vs Fitted Values for Price')\n",
    "plt.xlabel('Price (in dollars)')\n",
    "plt.ylabel('Proportion of Cars')\n",
    "\n",
    "plt.show()\n",
    "plt.close()"
   ]
  },
  {
   "cell_type": "markdown",
   "metadata": {},
   "source": []
  },
  {
   "cell_type": "markdown",
   "metadata": {},
   "source": []
  },
  {
   "cell_type": "markdown",
   "metadata": {},
   "source": [
    "### 3. Residual Plot\n",
    "\n",
    "A good way to visualize the variance of the data is to use a residual plot.\n",
    "\n",
    "What is a **residual**?\n",
    "\n",
    "The difference between the observed value (y) and the predicted value (Yhat) is called the residual (e). When we look at a regression plot, the residual is the distance from the data point to the fitted regression line.\n",
    "\n",
    "So what is a **residual plot**?\n",
    "\n",
    "A residual plot is a graph that shows the residuals on the vertical y-axis and the independent variable on the horizontal x-axis.\n",
    "\n",
    "What do we pay attention to when looking at a residual plot?\n",
    "\n",
    "We look at the spread of the residuals:\n",
    "\n",
    "- If the points in a residual plot are **randomly spread out around the x-axis**, then a **linear model is appropriate** for the data. Why is that? Randomly spread out residuals means that the variance is constant, and thus the linear model is a good fit for this data.\n",
    "\n",
    "### 4. Polynomial Regression\n",
    "\n",
    "**Polynomial regression** is a particular case of the general linear regression model or multiple linear regression models. \n",
    "We get non-linear relationships by squaring or setting higher-order terms of the predictor variables.\n",
    "\n",
    "There are different orders of polynomial regression:\n",
    "\n",
    "<center>**Quadratic - 2nd order**</center>\n",
    "\n",
    "\n",
    " \\begin{equation*}\n",
    "Yhat = a + b_1 X^2 +b_2 X^2 \n",
    "\\\\\n",
    "\\end{equation*}\n",
    "\n",
    "\n",
    " <center>**Cubic - 3rd order**</center>\n",
    " \n",
    " \n",
    " \\begin{equation*}\n",
    "Yhat = a + b_1 X^2 +b_2 X^2 +b_3 X^3\\\\\n",
    "\\end{equation*}\n",
    "\n",
    "<center> **Higher order**:</center>\n",
    "\n",
    "\n",
    " \\begin{equation*}\n",
    "Y = a + b_1 X^2 +b_2 X^2 +b_3 X^3 ....\\\\\n",
    "\\end{equation*}"
   ]
  },
  {
   "cell_type": "markdown",
   "metadata": {},
   "source": [
    "Fitting the polynomial using the **np.polyfit**, then use the function **np.poly1d** to display the polynomial function"
   ]
  },
  {
   "cell_type": "code",
   "execution_count": 5,
   "metadata": {},
   "outputs": [],
   "source": [
    "# Use the following function to plot the data\n",
    "def PlotPolly(model, independent_variable, dependent_variabble, Name):\n",
    "    x_new = np.linspace(15, 55, 100)\n",
    "    y_new = model(x_new)\n",
    "\n",
    "    plt.plot(independent_variable,dependent_variabble,'.', x_new, y_new, '-')\n",
    "    plt.title('Polynomial Fit with Matplotlib for Price ~ Length')\n",
    "    ax = plt.gca()\n",
    "    ax.set_axis_bgcolor((0.898, 0.898, 0.898))\n",
    "    fig = plt.gcf()\n",
    "    plt.xlabel(Name)\n",
    "    plt.ylabel('Price of Cars')\n",
    "\n",
    "    plt.show()\n",
    "    plt.close()"
   ]
  },
  {
   "cell_type": "code",
   "execution_count": null,
   "metadata": {},
   "outputs": [],
   "source": [
    "# Example for polynomial function\n",
    "# set variables\n",
    "x = df['highway-mpg']\n",
    "y = df['price']\n",
    "\n",
    "# Here we use a polynomial of the 3rd order (cubic) \n",
    "f = np.polyfit(x, y, 3)\n",
    "p = np.poly1d(f)\n",
    "\n",
    "# plot the results\n",
    "PlotPolly(p,x,y, 'highway-mpg')"
   ]
  },
  {
   "cell_type": "markdown",
   "metadata": {},
   "source": [
    "**The analytical expression for Multivariate Polynomial function gets complicated. For example, the expression for a second-order (degree=2)polynomial with two variables is given by:**\n",
    "\n",
    "\\begin{equation*}\n",
    "\\hat{Y} = a + b_1 X_1 +b_2 X_2 +b_3 X_1 X_2+b_4 X_1^2+b_5 X_2^2\n",
    "\\end{equation*}\n",
    "\n",
    "We can perform a polynomial transform on multiple features."
   ]
  },
  {
   "cell_type": "code",
   "execution_count": null,
   "metadata": {},
   "outputs": [],
   "source": [
    "from sklearn.preprocessing import PolynomialFeatures\n",
    "pr=PolynomialFeatures(degree=2)\n",
    "Z_pr=pr.fit_transform(Z)"
   ]
  },
  {
   "cell_type": "markdown",
   "metadata": {},
   "source": [
    "### 5. Pipelines\n",
    "Data Pipelines simplify the steps of processing the data. We use the module  **Pipeline** to create a pipeline. We also use **StandardScaler** as a step in our pipeline."
   ]
  },
  {
   "cell_type": "code",
   "execution_count": null,
   "metadata": {},
   "outputs": [],
   "source": [
    "from sklearn.pipeline import Pipeline\n",
    "from sklearn.preprocessing import StandardScaler"
   ]
  },
  {
   "cell_type": "code",
   "execution_count": null,
   "metadata": {},
   "outputs": [],
   "source": [
    "Input=[('scale',StandardScaler()),\n",
    "       ('polynomial', PolynomialFeatures(include_bias=False)),\n",
    "       ('model', LinearRegression())]\n",
    "\n",
    "pipe=Pipeline(Input)\n",
    "pipe.fit(Z,y)\n",
    "ypipe=pipe.predict(Z)\n"
   ]
  },
  {
   "cell_type": "markdown",
   "metadata": {},
   "source": []
  },
  {
   "cell_type": "markdown",
   "metadata": {},
   "source": [
    "### 6. Measures for In-Sample Evaluation\n",
    "\n",
    "When evaluating our models, not only do we want to visualise the results, but we also want a quantitative measure to determine how accurate the model is.\n",
    "\n",
    "Two very important measures that are often used in Statistics to determine the accuracy of a model are:\n",
    "\n",
    "- **$R^2$ / R-squared**\n",
    "- **Mean Squared Error (MSE)**\n",
    "\n",
    "**R-squared**\n",
    "\n",
    "R squared, also known as the coefficient of determination, is a measure to indicate how close the data is to the fitted regression line.\n",
    "The value of the R-squared is the percentage of variation of the response variable (y) that is explained by a linear model.\n",
    "\n",
    "\n",
    "\n",
    "**Mean Squared Error (MSE)**\n",
    "\n",
    "The Mean Squared Error measures the average of the squares of errors, that is, the difference between actual value (y) and the estimated value (ŷ)."
   ]
  },
  {
   "cell_type": "code",
   "execution_count": null,
   "metadata": {},
   "outputs": [],
   "source": [
    "# single and multiple\n",
    "# R squre\n",
    "lm.score(X, y)\n",
    "\n",
    "# MSE\n",
    "from sklearn.metrics import mean_squared_error\n",
    "mean_squared_error(y, yhat)\n",
    "\n",
    "# Polynomial\n",
    "from sklearn.metrics import r2_score\n",
    "r_squared = r2_score(y, p(x))\n",
    "mean_squared_error(y, p(x))"
   ]
  },
  {
   "cell_type": "markdown",
   "metadata": {},
   "source": [
    "### 7. Decision Making: Determining a Good Model Fit\n",
    "\n",
    "R-squred, MSE, and etc"
   ]
  },
  {
   "cell_type": "markdown",
   "metadata": {},
   "source": [
    "<a id=\"ref9\"></a>\n",
    "<h1 align=center><font size = 5>The Details of Evaluations of Linear Regression Model</font></h1>"
   ]
  },
  {
   "cell_type": "markdown",
   "metadata": {},
   "source": [
    "### 1. Linear Regression"
   ]
  },
  {
   "cell_type": "markdown",
   "metadata": {},
   "source": [
    "1.1.1 Mean Squre error (MSE) cost function for the Linear Regression Model\n",
    "\n",
    "$$MSE(X, h_\\theta) = \\frac1{m} \\sum_{i=0}^m (\\theta^ T\\cdot{x^i} - y^i)^2$$"
   ]
  },
  {
   "cell_type": "markdown",
   "metadata": {},
   "source": [
    "1.1.2 The Normal Equation\n",
    "$$\\hat{\\theta} = (X^T\\cdot{X}^{-1})\\cdot{X^T}\\cdot{y}$$"
   ]
  },
  {
   "cell_type": "code",
   "execution_count": 25,
   "metadata": {},
   "outputs": [
    {
     "data": {
      "image/png": "[encoded data removed]",
      "text/plain": [
       "<Figure size 432x288 with 1 Axes>"
      ]
     },
     "metadata": {
      "needs_background": "light"
     },
     "output_type": "display_data"
    }
   ],
   "source": [
    "X = 2 * np.random.rand(100, 1)\n",
    "y = 4 + 3*X + np.random.rand(100, 1)\n",
    "\n",
    "plt.scatter(X, y)\n",
    "plt.show()"
   ]
  },
  {
   "cell_type": "code",
   "execution_count": 36,
   "metadata": {},
   "outputs": [
    {
     "data": {
      "image/png": "[encoded data removed]",
      "text/plain": [
       "<Figure size 432x288 with 1 Axes>"
      ]
     },
     "metadata": {
      "needs_background": "light"
     },
     "output_type": "display_data"
    }
   ],
   "source": [
    "ans = sns.load_dataset(\"anscombe\")\n",
    "ax = sns.regplot(x=\"x\", y=\"y\", data=ans,\n",
    "                 scatter_kws={\"s\": 80},\n",
    "                 order=2, ci=None, truncate=True)\n",
    "\n",
    "#sns.regplot(x=X, y=y, color='g')"
   ]
  },
  {
   "cell_type": "markdown",
   "metadata": {},
   "source": [
    "1.1.3 Compute $\\hat{\\theta}$ using the Normal Equation"
   ]
  },
  {
   "cell_type": "code",
   "execution_count": 105,
   "metadata": {},
   "outputs": [
    {
     "data": {
      "text/plain": [
       "array([[4.45302277],\n",
       "       [3.04972506]])"
      ]
     },
     "execution_count": 105,
     "metadata": {},
     "output_type": "execute_result"
    }
   ],
   "source": [
    "X_b = np.c_[np.ones((100,1)), X] # add x0 =1 to each instance\n",
    "theta_best = np.linalg.inv(X_b.T.dot(X_b)).dot(X_b.T).dot(y)\n",
    "theta_best"
   ]
  },
  {
   "cell_type": "markdown",
   "metadata": {},
   "source": [
    "Making a prediction using $\\hat{\\theta}$"
   ]
  },
  {
   "cell_type": "code",
   "execution_count": 106,
   "metadata": {},
   "outputs": [
    {
     "data": {
      "text/plain": [
       "array([[ 4.45302277],\n",
       "       [10.55247289]])"
      ]
     },
     "execution_count": 106,
     "metadata": {},
     "output_type": "execute_result"
    }
   ],
   "source": [
    "X_new = np.array([[0], [2]])\n",
    "X_new_b = np.c_[np.ones((2,1)), X_new]\n",
    "y_pred = X_new_b.dot(theta_best)\n",
    "y_pred"
   ]
  },
  {
   "cell_type": "code",
   "execution_count": 107,
   "metadata": {},
   "outputs": [
    {
     "data": {
      "image/png": "[encoded data removed]",
      "text/plain": [
       "<Figure size 432x288 with 1 Axes>"
      ]
     },
     "metadata": {
      "needs_background": "light"
     },
     "output_type": "display_data"
    }
   ],
   "source": [
    "plt.plot(X_new, y_predict, 'r-')\n",
    "plt.plot(X, y, 'b.')\n",
    "plt.axis([0,2,0,15])\n",
    "plt.show()"
   ]
  },
  {
   "cell_type": "markdown",
   "metadata": {},
   "source": [
    "1.1.4 Using the Scikit-Learn package"
   ]
  },
  {
   "cell_type": "code",
   "execution_count": 108,
   "metadata": {},
   "outputs": [
    {
     "data": {
      "text/plain": [
       "(array([4.45302277]), array([[3.04972506]]))"
      ]
     },
     "execution_count": 108,
     "metadata": {},
     "output_type": "execute_result"
    }
   ],
   "source": [
    "from sklearn.linear_model import LinearRegression\n",
    "lin_reg = LinearRegression()\n",
    "lin_reg.fit(X, y)\n",
    "lin_reg.intercept_, lin_reg.coef_"
   ]
  },
  {
   "cell_type": "markdown",
   "metadata": {},
   "source": [
    "<a id=\"ref11\"></a>\n",
    "### 2. Polynomial Regression"
   ]
  },
  {
   "cell_type": "code",
   "execution_count": 38,
   "metadata": {},
   "outputs": [
    {
     "data": {
      "image/png": "[encoded data removed]",
      "text/plain": [
       "<Figure size 432x288 with 1 Axes>"
      ]
     },
     "metadata": {
      "needs_background": "light"
     },
     "output_type": "display_data"
    }
   ],
   "source": [
    "m = 100\n",
    "X = 6 * np.random.rand(m, 1) - 3\n",
    "y = 0.5 * X**2 + X + 2 + np.random.randn(m, 1)\n",
    "plt.scatter(X, y)\n",
    "plt.show()"
   ]
  },
  {
   "cell_type": "code",
   "execution_count": 74,
   "metadata": {},
   "outputs": [
    {
     "data": {
      "image/png": "[encoded data removed]",
      "text/plain": [
       "<Figure size 432x288 with 1 Axes>"
      ]
     },
     "metadata": {
      "needs_background": "light"
     },
     "output_type": "display_data"
    }
   ],
   "source": [
    "df_x = pd.DataFrame(X)\n",
    "df_y = pd.DataFrame(y)\n",
    "df =  pd.concat([df_x, df_y], axis=1)\n",
    "df.columns = ['x', 'y']\n",
    "ax = sns.regplot(x='x', y='y', data=df, scatter_kws={\"s\": 40}, order=2, ci=None, truncate=True)"
   ]
  },
  {
   "cell_type": "code",
   "execution_count": 61,
   "metadata": {},
   "outputs": [],
   "source": [
    "# Use the following function to plot the polynomial data\n",
    "def PlotPolly(model, independent_variable, dependent_variabble, Name):\n",
    "    x_new = np.linspace(15, 55, 100)\n",
    "    y_new = model(x_new)\n",
    "\n",
    "    plt.plot(independent_variable,dependent_variabble,'.', x_new, y_new, '-')\n",
    "    plt.title('Polynomial Fit with Matplotlib for Price ~ Length')\n",
    "    ax = plt.gca()\n",
    "    ax.set_axis_bgcolor((0.898, 0.898, 0.898))\n",
    "    fig = plt.gcf()\n",
    "    plt.xlabel(Name)\n",
    "    plt.ylabel('Price of Cars')\n",
    "\n",
    "    plt.show()\n",
    "    plt.close()"
   ]
  },
  {
   "cell_type": "code",
   "execution_count": null,
   "metadata": {},
   "outputs": [],
   "source": [
    "# Here we use a polynomial; Need some work\n",
    "f = np.polyfit(X, y, 2)\n",
    "p = np.poly1d(f)\n",
    "\n",
    "# plot the results\n",
    "PlotPolly(p,X,y, 'Random')"
   ]
  },
  {
   "cell_type": "code",
   "execution_count": 121,
   "metadata": {},
   "outputs": [
    {
     "name": "stdout",
     "output_type": "stream",
     "text": [
      "[-2.80019426]\n",
      "[-2.80019426  7.84108788]\n"
     ]
    }
   ],
   "source": [
    "from sklearn.preprocessing import PolynomialFeatures\n",
    "poly_features = PolynomialFeatures(degree = 2, include_bias =  False)\n",
    "X_poly = poly_features.fit_transform(X)\n",
    "print(X[0])\n",
    "print(X_poly[0])"
   ]
  },
  {
   "cell_type": "code",
   "execution_count": 122,
   "metadata": {},
   "outputs": [
    {
     "data": {
      "text/plain": [
       "(array([2.11162455]), array([[0.95657309, 0.47337037]]))"
      ]
     },
     "execution_count": 122,
     "metadata": {},
     "output_type": "execute_result"
    }
   ],
   "source": [
    "lin_reg = LinearRegression()\n",
    "lin_reg.fit(X_poly, y)\n",
    "lin_reg.intercept_, lin_reg.coef_"
   ]
  },
  {
   "cell_type": "markdown",
   "metadata": {},
   "source": [
    "##### PolynomailFeatures(degree = d) transforms an array containing n features into an array containing $\\frac{(n+d)!}{d!n!}$ features, where n! is the factorial of n, equal to 1 $\\times$2$\\times$3$\\times$....$\\times$n. ***Beware of the combinationtorial explosion of the number of features!***"
   ]
  },
  {
   "cell_type": "markdown",
   "metadata": {},
   "source": [
    "### 2.1 Learning Curves"
   ]
  },
  {
   "cell_type": "markdown",
   "metadata": {},
   "source": [
    "* If the mode perform well on the training data but cross-validation metrics is poor, the model is overfitting; both are poor, then it is underfitting.\n",
    "\n",
    "* Another way $\\Longrightarrow$ ***Learning Curves***"
   ]
  },
  {
   "cell_type": "code",
   "execution_count": 123,
   "metadata": {},
   "outputs": [],
   "source": [
    "from sklearn.metrics import mean_squared_error\n",
    "from sklearn.model_selection import train_test_split\n",
    "\n",
    "def plot_learning_curves(model, X, y):\n",
    "    X_train, X_val, y_train, y_val = train_test_split(X, y, test_size = 0.2)\n",
    "    train_errors, val_errors = [],[]\n",
    "    for m in range(1, len(X_train)):\n",
    "        model.fit(X_train[:m], y_train[:m])\n",
    "        y_train_pred = model.predict(X_train[:m])\n",
    "        y_val_pred = model.predict(X_val)\n",
    "        train_errors.append(mean_squared_error(y_train_pred, y_train[:m]))\n",
    "        val_errors.append(mean_squared_error(y_val_pred, y_val))\n",
    "    plt.plot(np.sqrt(train_errors), 'r-+', linewidth = 2, label = 'train')\n",
    "    plt.plot(np.sqrt(val_errors), 'b-', linewidth = 3, label = 'val')"
   ]
  },
  {
   "cell_type": "code",
   "execution_count": 124,
   "metadata": {},
   "outputs": [
    {
     "data": {
      "image/png": "[encoded data removed]",
      "text/plain": [
       "<Figure size 432x288 with 1 Axes>"
      ]
     },
     "metadata": {
      "needs_background": "light"
     },
     "output_type": "display_data"
    }
   ],
   "source": [
    "lin_reg = LinearRegression()\n",
    "plot_learning_curves(lin_reg, X, y)"
   ]
  },
  {
   "cell_type": "code",
   "execution_count": 125,
   "metadata": {},
   "outputs": [
    {
     "data": {
      "image/png": "[encoded data removed]",
      "text/plain": [
       "<Figure size 432x288 with 1 Axes>"
      ]
     },
     "metadata": {
      "needs_background": "light"
     },
     "output_type": "display_data"
    }
   ],
   "source": [
    "from sklearn.pipeline import Pipeline\n",
    "\n",
    "polynomial_regression = Pipeline ((\n",
    "    ('poly_features', PolynomialFeatures(degree = 10, include_bias = False)),\n",
    "    ('sgd_reg', LinearRegression()),\n",
    "))\n",
    "\n",
    "plot_learning_curves(polynomial_regression, X, y)"
   ]
  },
  {
   "cell_type": "markdown",
   "metadata": {},
   "source": [
    "#### Note for the overfiiting and underfittin the models\n",
    "\n",
    "* Typically the error of the test model is really high and research the plateau; with more training data, there is no better resutls for the both training model  $\\Longrightarrow$ ***Underfitting***\n",
    "\n",
    "* The error of the test model is really low, and large gaps between the error curves of the traing and testing data; with more training input, the error of the testing modle will be close the those of the training model $\\Longrightarrow$ ***Overfitting***\n",
    "\n",
    "* Bias (incorrect assumption), Variance (model is excessively sensititive to the small variance; e.g., high degree polynomial model), and Irreduciable errors (nosies in the data; cleaning up data and checking the data input)\n"
   ]
  },
  {
   "cell_type": "markdown",
   "metadata": {},
   "source": [
    "<a id=\"ref12\"></a>\n",
    "### 3. Regularized Linear Models\n",
    "* ***Linear Model*** $\\Longrightarrow$ Reducing the weight; Ridge Regression, Lasso Regression, Elastic Net\n",
    "* ***Polynomial Model*** $\\Longrightarrow$ Reducing the degree"
   ]
  },
  {
   "cell_type": "markdown",
   "metadata": {},
   "source": [
    "### 3.1 Ridge Regression model"
   ]
  },
  {
   "cell_type": "markdown",
   "metadata": {},
   "source": [
    "Adding $\\alpha\\sum_{i=1}^n\\theta_i^2$ to the cost function $\\Longrightarrow$ making sure the model is fitting the data, but also keep the weights as small as possible\n",
    "* ***Should only be added to the cost function during the training; once trained, the unregularized measured should be used to evaluate the model's performance***\n",
    "* ***$\\alpha$*** regularize the model\n",
    "* $\\alpha$ = 0 $\\Longrightarrow$ Linear Regression Model\n",
    "* $\\alpha$ is very large, all weights will be close to 0, data fitting line will be horizontal line close to mean\n",
    "\n",
    "* ***In general, the Ridge Regression cost function:***\n",
    "$$J(\\theta) = MSE(\\theta) + \\alpha\\frac1{2}\\sum_{i=1}^n\\theta_i^2$$\n",
    "$$J(\\theta) = \\frac1{m}\\sum_{i=1}^m(\\theta^T\\cdot{X^i} - y^i)^2 + \\alpha\\frac1{2}\\sum_{i=1}^n\\theta_i^2$$"
   ]
  },
  {
   "cell_type": "markdown",
   "metadata": {},
   "source": [
    "#### ***Important Note:*** \n",
    "* the bias term $\\theta_0$ is not regularized because the sum starts at i = 1;\n",
    "* if $ w = [\\theta_1, \\theta_2, ...., \\theta_n]$, the regularization term is simply equal to $\\frac1{2}(\\|w\\|_2)^2$, where $\\|\\cdot\\|_2$ represents the norm of the weight vector.\n",
    "* it is really important to scale the data (e.g., using StanadardScalar), because the Ridge Regression model is sensitive to the scales of the input features."
   ]
  },
  {
   "cell_type": "markdown",
   "metadata": {},
   "source": [
    "#### 3.1.1 Two types of the Ridge Regression\n",
    "* ***Closed-form equation***  $$\\hat{\\theta} = (X^T\\cdot{X} + \\alpha A)^{-1}\\cdot{X^T}\\cdot{y}$$"
   ]
  },
  {
   "cell_type": "code",
   "execution_count": 126,
   "metadata": {},
   "outputs": [
    {
     "data": {
      "text/plain": [
       "array([[4.98189316]])"
      ]
     },
     "execution_count": 126,
     "metadata": {},
     "output_type": "execute_result"
    }
   ],
   "source": [
    "from sklearn.linear_model import Ridge\n",
    "ridge_reg = Ridge(alpha = 1, solver = 'cholesky')\n",
    "ridge_reg.fit(X,y)\n",
    "ridge_reg.predict([[1.5]])"
   ]
  },
  {
   "cell_type": "markdown",
   "metadata": {},
   "source": [
    "* ***Gradient Descent***\n",
    "* $\\ell_2$ indicates SGD has a regularization term to the cost function that equals to half the squred of the $\\ell_2$ norm of the weight vector"
   ]
  },
  {
   "cell_type": "code",
   "execution_count": 127,
   "metadata": {},
   "outputs": [
    {
     "name": "stderr",
     "output_type": "stream",
     "text": [
      "/Users/mengchen/anaconda3/lib/python3.6/site-packages/sklearn/linear_model/stochastic_gradient.py:166: FutureWarning: max_iter and tol parameters have been added in SGDRegressor in 0.19. If both are left unset, they default to max_iter=5 and tol=None. If tol is not None, max_iter defaults to max_iter=1000. From 0.21, default max_iter will be 1000, and default tol will be 1e-3.\n",
      "  FutureWarning)\n",
      "/Users/mengchen/anaconda3/lib/python3.6/site-packages/sklearn/utils/validation.py:761: DataConversionWarning: A column-vector y was passed when a 1d array was expected. Please change the shape of y to (n_samples, ), for example using ravel().\n",
      "  y = column_or_1d(y, warn=True)\n"
     ]
    },
    {
     "data": {
      "text/plain": [
       "array([3.97129474])"
      ]
     },
     "execution_count": 127,
     "metadata": {},
     "output_type": "execute_result"
    }
   ],
   "source": [
    "sgd_reg = SGDRegressor(penalty = 'l2') \n",
    "sgd_reg.fit(X, y)\n",
    "sgd_reg.predict([[1.5]])"
   ]
  },
  {
   "cell_type": "markdown",
   "metadata": {},
   "source": [
    "### 3.2 Lasso Regression\n",
    "* Least Absolute Shrinkage and Selection Operator Regression\n",
    "* use $\\ell_1$ norm of the weight vector instead of half the square of the $\\ell_2$ norm\n",
    "$$J(\\theta) = MSE(\\theta) + \\alpha \\sum_{i=1}^n |\\theta_i|$$\n",
    "* Tends to completely eliminate the weights of the least important features; in other words, the Lasso Regression automatically performs the feature selection and outputs a ***\"sparse model\"***\n",
    "* ***Need to gradually reduce the learning rate to converge to the global minimum***"
   ]
  },
  {
   "cell_type": "code",
   "execution_count": 128,
   "metadata": {},
   "outputs": [
    {
     "data": {
      "text/plain": [
       "array([4.93546649])"
      ]
     },
     "execution_count": 128,
     "metadata": {},
     "output_type": "execute_result"
    }
   ],
   "source": [
    "from sklearn.linear_model import Lasso # same the SGDRegressor(penalty = 'l1')\n",
    "lasso_reg = Lasso(alpha = 0.1)\n",
    "lasso_reg.fit(X, y)\n",
    "lasso_reg.predict([[1.5]])"
   ]
  },
  {
   "cell_type": "markdown",
   "metadata": {},
   "source": [
    "### 3.3 Elastic Net $\\Longrightarrow$\n",
    "* a middle ground between the Ridge Regression and Lasso Regression\n",
    "$$ J(\\theta) = MSE(\\theta) + r\\alpha \\sum_{i=1}^n|\\theta| + \\frac{1-r}{2}\\alpha\\sum_{i=1}^n\\theta_i^2$$\n",
    "* in general, avoid the purely Linear Regression; add some regularization"
   ]
  },
  {
   "cell_type": "code",
   "execution_count": 129,
   "metadata": {},
   "outputs": [
    {
     "data": {
      "text/plain": [
       "array([4.93832332])"
      ]
     },
     "execution_count": 129,
     "metadata": {},
     "output_type": "execute_result"
    }
   ],
   "source": [
    "from sklearn.linear_model import ElasticNet\n",
    "elastic_net = ElasticNet(alpha = 0.1, l1_ratio = 0.5)\n",
    "elastic_net.fit(X, y)\n",
    "elastic_net.predict([[1.5]])"
   ]
  },
  {
   "cell_type": "markdown",
   "metadata": {},
   "source": [
    "### 3.4 Early Stopping --- stop training the model as the validation error reaches minimum"
   ]
  },
  {
   "cell_type": "code",
   "execution_count": 3,
   "metadata": {},
   "outputs": [
    {
     "ename": "NameError",
     "evalue": "name 'SGDRegressor' is not defined",
     "output_type": "error",
     "traceback": [
      "\u001b[0;31m---------------------------------------------------------------------------\u001b[0m",
      "\u001b[0;31mNameError\u001b[0m                                 Traceback (most recent call last)",
      "\u001b[0;32m<ipython-input-3-4211ff92c36f>\u001b[0m in \u001b[0;36m<module>\u001b[0;34m\u001b[0m\n\u001b[1;32m     19\u001b[0m \u001b[0mX_val_poly_scaled\u001b[0m \u001b[0;34m=\u001b[0m  \u001b[0mscaler\u001b[0m\u001b[0;34m.\u001b[0m\u001b[0mtransform\u001b[0m\u001b[0;34m(\u001b[0m\u001b[0mX_val_poly\u001b[0m\u001b[0;34m)\u001b[0m\u001b[0;34m\u001b[0m\u001b[0;34m\u001b[0m\u001b[0m\n\u001b[1;32m     20\u001b[0m \u001b[0;34m\u001b[0m\u001b[0m\n\u001b[0;32m---> 21\u001b[0;31m \u001b[0msgd_reg\u001b[0m \u001b[0;34m=\u001b[0m  \u001b[0mSGDRegressor\u001b[0m\u001b[0;34m(\u001b[0m\u001b[0mn_iter\u001b[0m \u001b[0;34m=\u001b[0m \u001b[0;36m1\u001b[0m\u001b[0;34m,\u001b[0m \u001b[0mwarm_start\u001b[0m \u001b[0;34m=\u001b[0m \u001b[0;32mTrue\u001b[0m\u001b[0;34m,\u001b[0m \u001b[0mpenalty\u001b[0m \u001b[0;34m=\u001b[0m \u001b[0;32mNone\u001b[0m\u001b[0;34m,\u001b[0m \u001b[0mlearning_rate\u001b[0m \u001b[0;34m=\u001b[0m \u001b[0;34m'constant'\u001b[0m\u001b[0;34m,\u001b[0m \u001b[0meta0\u001b[0m \u001b[0;34m=\u001b[0m \u001b[0;36m0.0005\u001b[0m\u001b[0;34m)\u001b[0m\u001b[0;34m\u001b[0m\u001b[0;34m\u001b[0m\u001b[0m\n\u001b[0m\u001b[1;32m     22\u001b[0m \u001b[0;34m\u001b[0m\u001b[0m\n\u001b[1;32m     23\u001b[0m \u001b[0mminimum_val_error\u001b[0m \u001b[0;34m=\u001b[0m \u001b[0mfloat\u001b[0m\u001b[0;34m(\u001b[0m\u001b[0;34m'inf'\u001b[0m\u001b[0;34m)\u001b[0m\u001b[0;34m\u001b[0m\u001b[0;34m\u001b[0m\u001b[0m\n",
      "\u001b[0;31mNameError\u001b[0m: name 'SGDRegressor' is not defined"
     ]
    }
   ],
   "source": [
    "import numpy as np\n",
    "from sklearn.base import clone\n",
    "from sklearn.preprocessing import StandardScaler\n",
    "from sklearn.preprocessing import PolynomialFeatures\n",
    "from sklearn.model_selection import train_test_split\n",
    "\n",
    "m = 100\n",
    "X = 6 * np.random.rand(m, 1) - 3\n",
    "y = 0.5 * X**2 + X + 2 + np.random.randn(m, 1)\n",
    "\n",
    "poly_features = PolynomialFeatures(degree = 2, include_bias =  False)\n",
    "X_poly = poly_features.fit_transform(X)\n",
    "X_train_poly, X_val_poly, y_train, y_val = train_test_split(X_poly, y, test_size = 0.2)\n",
    "\n",
    "scaler = StandardScaler()\n",
    "scaler.fit(X_train_poly)\n",
    "scaler.fit(X_val_poly)\n",
    "X_train_poly_scaled =  scaler.transform(X_train_poly)\n",
    "X_val_poly_scaled =  scaler.transform(X_val_poly)\n",
    "\n",
    "sgd_reg =  SGDRegressor(n_iter = 1, warm_start = True, penalty = None, learning_rate = 'constant', eta0 = 0.0005)\n",
    "\n",
    "minimum_val_error = float('inf')\n",
    "best_epoch = None\n",
    "best_model = None\n",
    "for epoch in range(1000):\n",
    "    sgd_reg.fit(X_train_poly_scaled, y_train)\n",
    "    y_val_pred = sgd_reg.predict(X_val_poly_scaled)\n",
    "    val_error = mean_squared_error(y_val_pred, y_val)\n",
    "    if val_error < minimum_val_error:\n",
    "        minimum_val_error = val_error\n",
    "        best_epoch = epoch\n",
    "        best_model = clone(sgd_reg)\n",
    "\n",
    "best_epoch\n",
    "best_model"
   ]
  },
  {
   "cell_type": "markdown",
   "metadata": {},
   "source": [
    "<a id=\"ref13\"></a>\n",
    "### 4. Logistic Regression <font color = 'blue'>–––estimate the probality that an instance belongs to particular class</font>"
   ]
  },
  {
   "cell_type": "markdown",
   "metadata": {},
   "source": [
    "##### **** Logistic regression model estimated probabilty:***\n",
    "$$\\hat{p} = h_\\theta(x) = \\sigma(\\theta^T\\cdot{x})$$\n",
    "##### **** Sigmoid function (S-shaped):***\n",
    "$$\\sigma(\\cdot)$$\n",
    "##### **** Logistic function:***\n",
    "$$\\sigma(t) = \\frac{1}{1+e^{-t}}$$\n",
    "##### **** Logistic regression mode prediction***\n",
    "$$\n",
    "\\begin{equation}\n",
    "   \\hat{y} =\\left\\{\n",
    "   \\begin{array}{@{}ll@{}}\n",
    "      0 & \\text{if } \\hat{p} < 0.5, \\\\\n",
    "      1 & \\text{if } \\hat{p} \\geq{0.5}.\n",
    "   \\end{array}\\right.\n",
    "\\end{equation}\n",
    "$$\n"
   ]
  },
  {
   "cell_type": "markdown",
   "metadata": {},
   "source": [
    "#### 4.1 Cost function\n",
    "##### **** single training instance***\n",
    "$$\n",
    "\\begin{equation}\n",
    "   c(\\theta) =\\left\\{\n",
    "   \\begin{array}{@{}ll@{}}\n",
    "      -log(\\hat{p})      & \\text{if } y = 1, \\\\\n",
    "      -log(1 - \\hat{p}) & \\text{if } y = 0.\n",
    "   \\end{array}\\right.\n",
    "\\end{equation}\n",
    "$$"
   ]
  },
  {
   "cell_type": "markdown",
   "metadata": {},
   "source": [
    "##### **** Logistic Regression cost function***\n",
    "$$ J(\\theta) = - \\frac1{m}\\sum_{i=1}^m[y^i log(\\hat{p}^i) + (1-y^i)log(1 - \\hat{p}^i)]$$"
   ]
  },
  {
   "cell_type": "markdown",
   "metadata": {},
   "source": [
    "#### Since the cost function is convex, so Gradient Descent is guarantted to find the global minimum\n",
    "##### ****Logistic cost function partial deriviatives***\n",
    "\n",
    "$$\\frac{\\partial}{\\partial{\\theta}_j}J(\\theta) = \\frac1{m}\\sum_{i=1}^m(\\sigma(\\theta^T\\cdot{x^i}) - y^i)x_j^i$$"
   ]
  },
  {
   "cell_type": "markdown",
   "metadata": {},
   "source": [
    "#### 4.2 Decision Boundary"
   ]
  },
  {
   "cell_type": "markdown",
   "metadata": {},
   "source": [
    "Example: Iris Dataset"
   ]
  },
  {
   "cell_type": "code",
   "execution_count": 3,
   "metadata": {},
   "outputs": [
    {
     "data": {
      "text/plain": [
       "['data', 'target', 'target_names', 'DESCR', 'feature_names', 'filename']"
      ]
     },
     "execution_count": 3,
     "metadata": {},
     "output_type": "execute_result"
    }
   ],
   "source": [
    "from sklearn import datasets\n",
    "iris = datasets.load_iris()\n",
    "list(iris.keys())"
   ]
  },
  {
   "cell_type": "code",
   "execution_count": 19,
   "metadata": {},
   "outputs": [
    {
     "name": "stderr",
     "output_type": "stream",
     "text": [
      "/Users/mengchen/anaconda3/lib/python3.6/site-packages/sklearn/linear_model/logistic.py:433: FutureWarning: Default solver will be changed to 'lbfgs' in 0.22. Specify a solver to silence this warning.\n",
      "  FutureWarning)\n"
     ]
    },
    {
     "data": {
      "image/png": "[encoded data removed]",
      "text/plain": [
       "<Figure size 432x288 with 1 Axes>"
      ]
     },
     "metadata": {
      "needs_background": "light"
     },
     "output_type": "display_data"
    },
    {
     "data": {
      "text/plain": [
       "array([1, 0, 1])"
      ]
     },
     "execution_count": 19,
     "metadata": {},
     "output_type": "execute_result"
    }
   ],
   "source": [
    "X = iris['data'][:, 3:]\n",
    "y = (iris['target'] == 2).astype(np.int)\n",
    "\n",
    "from sklearn.linear_model import LogisticRegression\n",
    "log_reg = LogisticRegression()\n",
    "log_reg.fit(X, y)\n",
    "\n",
    "# look at the model's probalities for flowers with petal widths varying from 0 to 3 cm\n",
    "X_new =  np.linspace(0, 3, 1000).reshape(-1, 1)\n",
    "y_proba = log_reg.predict_proba(X_new)\n",
    "plt.plot(X_new, y_proba[:, 1], 'g-', label = 'iris-Virginica')\n",
    "plt.plot(X_new, y_proba[:, 0], 'b--', label = 'Not iris-Virginica')\n",
    "plt.show()\n",
    "\n",
    "# prediction example\n",
    "log_reg.predict([[1.7], [1.61], [1.62]]) # as see the cut-off point around 1.61"
   ]
  },
  {
   "cell_type": "code",
   "execution_count": 33,
   "metadata": {},
   "outputs": [
    {
     "name": "stderr",
     "output_type": "stream",
     "text": [
      "/Users/mengchen/anaconda3/lib/python3.6/site-packages/sklearn/linear_model/logistic.py:433: FutureWarning: Default solver will be changed to 'lbfgs' in 0.22. Specify a solver to silence this warning.\n",
      "  FutureWarning)\n"
     ]
    },
    {
     "data": {
      "image/png": "[encoded data removed]",
      "text/plain": [
       "<Figure size 432x288 with 1 Axes>"
      ]
     },
     "metadata": {
      "needs_background": "light"
     },
     "output_type": "display_data"
    }
   ],
   "source": [
    "# logistic regression with l1 penalty\n",
    "log_reg_l1 = LogisticRegression(penalty = 'l1')\n",
    "log_reg_l1.fit(X, y)\n",
    "\n",
    "# look at the model's probalities for flowers with petal widths varying from 0 to 3 cm\n",
    "X_new =  np.linspace(0, 3, 1000).reshape(-1, 1)\n",
    "y_proba = log_reg_l1.predict_proba(X_new)\n",
    "plt.plot(X_new, y_proba[:, 1], 'g-', label = 'iris-Virginica')\n",
    "plt.plot(X_new, y_proba[:, 0], 'b--', label = 'Not iris-Virginica')\n",
    "plt.show()"
   ]
  },
  {
   "cell_type": "markdown",
   "metadata": {},
   "source": [
    "* ***<font color='red'>logistic regression with l1 penalty</font>***\n",
    "* ***<font color='red'>sklearn default to set l2 penalty with logistic regression</font>***"
   ]
  },
  {
   "cell_type": "code",
   "execution_count": null,
   "metadata": {},
   "outputs": [],
   "source": [
    "log_reg_l2 = LogisticRegression(penalty = 'l2')\n",
    "log_reg_l2.fit(X, y)"
   ]
  },
  {
   "cell_type": "markdown",
   "metadata": {},
   "source": [
    "* ***<font color='red'>look at the model's probalities for flowers with petal widths varying from 0 to 3 cm</font>***"
   ]
  },
  {
   "cell_type": "code",
   "execution_count": null,
   "metadata": {},
   "outputs": [],
   "source": [
    "X_new =  np.linspace(0, 3, 1000).reshape(-1, 1)\n",
    "y_proba = log_reg_l2.predict_proba(X_new)\n",
    "plt.plot(X_new, y_proba[:, 1], 'g-', label = 'iris-Virginica')\n",
    "plt.plot(X_new, y_proba[:, 0], 'b--', label = 'Not iris-Virginica')\n",
    "plt.show()"
   ]
  },
  {
   "cell_type": "markdown",
   "metadata": {},
   "source": [
    "#### 4.3 Softmax Regression  --- generalized to support multiple classes directly without having to train and combine multiple binary classifiers"
   ]
  },
  {
   "cell_type": "markdown",
   "metadata": {},
   "source": [
    "##### **** given an instance x, the Softmax Regression model first compute a score $s_k(x)$ for each class k, then estimates the probablity of each class by applying the softmax function (normalized exponential) to the scores***\n",
    "\n",
    "$$ s_k(x) = \\theta_k^T\\cdot{x}$$\n",
    "\n",
    "* each class has its own dedicated parameter vector $\\theta_k$. All together, vectors are typically stored as rows in a parameter matrix $\\Theta$."
   ]
  },
  {
   "cell_type": "markdown",
   "metadata": {},
   "source": [
    "#### 4.3.1 Softmax Function\n",
    "$$ \\hat{p}_k = \\sigma(s(x))_k = \\frac{exp(s_k(x))}{\\displaystyle\\sum_{j=1}^K exp(s_j(x))}$$\n",
    "K: the number of classes <br>\n",
    "s(x):a vector containing the socres of each class for the instance x <br>\n",
    "$\\sigma(s(x))$: the estimated probablity that the instance x belongs to class k given the scores of each class for that instance"
   ]
  },
  {
   "cell_type": "markdown",
   "metadata": {},
   "source": [
    "#### 4.3.2 Softmax Regression classifier prediction\n",
    "$\\DeclareMathOperator*{\\argmax}{arg\\max}$\n",
    "$$\\hat{y} = \\argmax_k \\sigma(s(x))_k = \\argmax_k s_k(x)= \\argmax_k(\\theta_k^T\\cdot{x}) $$\n",
    "* Predicting the highest estimated probablity (simply the class with the highest score) <br>\n",
    "* argmax operator returns the value of a variable that maximizes a function\n",
    "* returns the value of k that maximizes the estiamted probablity $\\sigma(s(x))_k$."
   ]
  },
  {
   "cell_type": "markdown",
   "metadata": {},
   "source": [
    "#### 4.3.3 Cross entropy –– minimize the cost function\n",
    "* To measure how well a set of estimated class probablities match the target clases\n",
    "\n",
    "* Cross entropy cost function\n",
    "$$J(\\Theta) = - \\frac{1}{m}\\sum_{i=1}^m\\sum_{k=1}^K y_k^i log(\\hat{p}_k^i)$$\n",
    "* $y_k^i$ = 1, if the targe class for the *i*th instance is _k_;\n",
    "* y = 0 otherwise\n",
    "* K = 2, equivalent to the Logistic Regression's cost function"
   ]
  },
  {
   "cell_type": "markdown",
   "metadata": {},
   "source": [
    "The cross entropy between two probability distributions p and q is defined as $H(p, q)= -\\sum_x p(x)\\log  q(x)$ "
   ]
  },
  {
   "cell_type": "markdown",
   "metadata": {},
   "source": [
    "##### **The gradient vector of the cost function with regard to $\\theta_k$:\n",
    "$$ \\nabla\\theta_kJ(\\Theta) = \\frac{1}{m}\\sum_{i=1}^m(\\hat{p}_k^i - y_k^i)x^i$$\n",
    "* Compute gradient vector for each class, then use Gradient Descent (or other optimazaiton algorithm) to find the parameter matrix $\\Theta$ that minimize the cost function."
   ]
  },
  {
   "cell_type": "code",
   "execution_count": 38,
   "metadata": {},
   "outputs": [
    {
     "name": "stdout",
     "output_type": "stream",
     "text": [
      "[2]\n",
      "[[6.38014896e-07 5.74929995e-02 9.42506362e-01]]\n"
     ]
    }
   ],
   "source": [
    "# EXAMPLE\n",
    "# 'lbfgs' support the Softmax Regression\n",
    "# 'l2' regularization is controlled by hyperparameter C\n",
    "\n",
    "X = iris['data'][:, (2, 3)] ## petal widths\n",
    "y = iris['target']\n",
    "\n",
    "softmax_reg = LogisticRegression(multi_class = 'multinomial', solver = 'lbfgs', C =10)\n",
    "softmax_reg.fit(X, y)\n",
    "\n",
    "print(softmax_reg.predict([[5, 2]]))\n",
    "print(softmax_reg.predict_proba([[5, 2]]))"
   ]
  }
 ],
 "metadata": {
  "kernelspec": {
   "display_name": "Python 3",
   "language": "python",
   "name": "python3"
  },
  "language_info": {
   "codemirror_mode": {
    "name": "ipython",
    "version": 3
   },
   "file_extension": ".py",
   "mimetype": "text/x-python",
   "name": "python",
   "nbconvert_exporter": "python",
   "pygments_lexer": "ipython3",
   "version": "3.6.8"
  }
 },
 "nbformat": 4,
 "nbformat_minor": 4
}
