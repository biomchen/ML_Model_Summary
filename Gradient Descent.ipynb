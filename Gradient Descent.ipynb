{
 "cells": [
  {
   "cell_type": "markdown",
   "metadata": {},
   "source": [
    "## Gradient Descent"
   ]
  },
  {
   "cell_type": "markdown",
   "metadata": {},
   "source": [
    "Example of the solution a non-linear system"
   ]
  },
  {
   "cell_type": "markdown",
   "metadata": {},
   "source": [
    "$\\begin{pmatrix}\n",
    "    3x_1 - \\cos(x_2x_3) - \\frac{3}{2} = 0  \\\\ \n",
    "    4{x_1}^2 - 625{x_2}^2 + 2x_2 - 1 = 0   \\\\\n",
    "    \\exp(-x_1x_2) + 20x_3 + \\frac{10\\pi-3}{3} = 0\n",
    "    \\end{pmatrix}$"
   ]
  },
  {
   "cell_type": "markdown",
   "metadata": {},
   "source": [
    "Transforme to associated function $G(x)$"
   ]
  },
  {
   "cell_type": "markdown",
   "metadata": {},
   "source": [
    "$G(x) = \\begin{bmatrix}\n",
    "    3x_1 - \\cos(x_2x_3) - \\frac{3}{2}         \\\\\n",
    "    4{x_1}^2 - 625{x_2}^2 + 2x_2 - 1          \\\\\n",
    "    \\exp(-x_1x_2) + 20x_3 + \\frac{10\\pi-3}{3}\n",
    "    \\end{bmatrix}$"
   ]
  },
  {
   "cell_type": "markdown",
   "metadata": {},
   "source": [
    "where $x = $"
   ]
  }
 ],
 "metadata": {
  "kernelspec": {
   "display_name": "Python 3",
   "language": "python",
   "name": "python3"
  },
  "language_info": {
   "codemirror_mode": {
    "name": "ipython",
    "version": 3
   },
   "file_extension": ".py",
   "mimetype": "text/x-python",
   "name": "python",
   "nbconvert_exporter": "python",
   "pygments_lexer": "ipython3",
   "version": "3.6.8"
  }
 },
 "nbformat": 4,
 "nbformat_minor": 4
}
