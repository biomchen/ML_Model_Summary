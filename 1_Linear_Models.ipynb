{
 "cells": [
  {
   "cell_type": "markdown",
   "metadata": {},
   "source": [
    "# **Linear Models**\n",
    "---\n",
    "## **Summary**\n",
    "to be added ..\n",
    "    \n",
    "## **References**\n",
    "1. Goodfellow, I., Bengio, Y., Courville, A. 2016. Deep Learning. MIT Press.\n",
    "2. Geron, A. 2017. Hands-On Machine Learning with Scikit-Learn & TensorFlow. O'Reily.\n",
    "3. Albon, C. 2018. Python Machine Learning Cookbook. O'Reily.\n",
    "4. IBM Data Science Professional Certificate Program. 2018. \n",
    "5. MIT Data Science and Big Data Cerfiticate Program. 2019.\n",
    "\n",
    "## **Concept**\n",
    "### **Linear Regression**\n",
    "#### **Simple Linear Regression**\n",
    "* The predictor/independent variable (X)\n",
    "* The response/dependent variable (that we want to predict)(Y)\n",
    "* $$y_i=\\beta x_i+\\alpha+\\varepsilon_i$$\n",
    "    \n",
    "#### **Multiple Linear Regression**\n",
    "* multiple predictor (independent) variable predictions\n",
    "* $$y_i=\\alpha+\\beta_i x_{i1}+\\dots+\\beta_k x_{ik}+\\varepsilon_i$$\n",
    "* **Evaluation**: *distribution plot*\n",
    "\n",
    "#### **Residual Plot**\n",
    "* Difference between $y_i$ and $\\hat{y_i}$.\n",
    "* Random spreaded out residuals $\\Longrightarrow$ *constant variance* $\\Longrightarrow$ **good** fit\n",
    "\n",
    "#### **Evaluation**\n",
    "* **$R^2$**\n",
    "* **Mean Squared Error** (MSE): cost function of linear regression model\n",
    "    * $$MSE(X, h_\\theta)=\\frac1{m}\\sum_{i=0}^m(\\theta^T\\cdot{x^i} - y^i)^2$$\n",
    "    * **Normal Equation** $$\\hat{\\theta} = (X^T\\cdot{X}^{-1})\\cdot{X^T}\\cdot{y}$$\n",
    "\n",
    "#### **Regularization**\n",
    "* **Ridge regression**\n",
    "    * Adding $\\alpha\\sum_{i=1}^n\\theta_i^2$ to the cost function $\\Longrightarrow$ weights $\\downarrow$\n",
    "    * **Ridge Regression cost function**:\n",
    "        * $$J(\\theta) = MSE(\\theta) + \\alpha\\frac1{2}\\sum_{i=1}^n\\theta_i^2$$\n",
    "        * $$J(\\theta) = \\frac1{m}\\sum_{i=1}^m(\\theta^T\\cdot{X^i} - y^i)^2 + \\alpha\\frac1{2}\\sum_{i=1}^n\\theta_i^2$$\n",
    "    * ***$\\alpha$*** regularize the model\n",
    "        * $\\alpha$ = 0 $\\Longrightarrow$ Linear Regression Model\n",
    "        * $\\alpha$ $\\uparrow$: weights $\\Longrightarrow$ 0 $\\Longrightarrow$ fitting line: a horizontal line close to mean\n",
    "    * **Only** added to the cost function during the training; removed for evaluating the model's performance\n",
    "    * **Important Notes**\n",
    "        * the bias term $\\theta_0$ is not regularized because the sum starts at i = 1;\n",
    "        * if $ w = [\\theta_1, \\theta_2, ...., \\theta_n]$, the regularization term is simply equal to $\\frac1{2}(\\|w\\|_2)^2$, where $\\|\\cdot\\|_2$ represents the norm of the weight vector.\n",
    "        * it is really important to scale the data (e.g., using StanadardScalar), because the Ridge Regression model is sensitive to the scales of the input features.\n",
    "    * **Two types**\n",
    "        * **Closed-form Equation**: $$\\hat{\\theta} = (X^T\\cdot{X} + \\alpha A)^{-1}\\cdot{X^T}\\cdot{y}$$\n",
    "        * **Gradient Descent**: $\\ell_2$ $\\Longrightarrow$ $J(\\theta)$ == half the squred of the $\\ell_2$ norm of the weight vector\n",
    "\n",
    "* **Lasso regression (Least Absolute Shrinkage and Selection Operator Regression)**\n",
    "    * $\\ell_1$ norm of the weight vector\n",
    "    * cost function: $$J(\\theta) = MSE(\\theta) + \\alpha \\sum_{i=1}^n |\\theta_i|$$\n",
    "    * the weights of the least important features $\\Longrightarrow$ 0\n",
    "        * automatically performs the feature selection $\\Longrightarrow$ a **'sparse model'** output\n",
    "    * **Need to gradually reduce the learning rate $\\Longrightarrow$ the global minimum**\n",
    "* **Elastic Net**\n",
    "    * a middle ground between the Ridge Regression and Lasso Regression\n",
    "    * cost function: $$J(\\theta)=MSE(\\theta)+r\\alpha\\sum_{i=1}^n|\\theta|+\\frac{1-r}{2}\\alpha\\sum_{i=1}^n\\theta_i^2$$\n",
    "* **Conclusive suggestions** \n",
    "    * **no** purely Linear Regression\n",
    "    * **add** some regularization\n",
    "\n",
    "#### **Pipelines**\n",
    "* create a pipeline\n",
    "* Example using `sklearn.StandardScaler`\n"
   ]
  },
  {
   "cell_type": "markdown",
   "metadata": {},
   "source": [
    "## **Examples**\n",
    "### **Simple Linear Regression**"
   ]
  },
  {
   "cell_type": "code",
   "execution_count": 2,
   "metadata": {},
   "outputs": [
    {
     "name": "stderr",
     "output_type": "stream",
     "text": [
      "/Users/mengchen/anaconda3/lib/python3.6/site-packages/statsmodels/tools/_testing.py:19: FutureWarning: pandas.util.testing is deprecated. Use the functions in the public API at pandas.testing instead.\n",
      "  import pandas.util.testing as tm\n"
     ]
    }
   ],
   "source": [
    "# Simple linear regression\n",
    "# import basic python libraries\n",
    "import matplotlib.pyplot as plt\n",
    "import numpy as np\n",
    "import seaborn as sns\n",
    "import pandas as pd\n",
    "from sklearn.linear_model import LinearRegression\n",
    "%matplotlib inline"
   ]
  },
  {
   "cell_type": "code",
   "execution_count": 4,
   "metadata": {},
   "outputs": [
    {
     "data": {
      "image/png": "[encoded data removed]",
      "text/plain": [
       "<Figure size 432x288 with 1 Axes>"
      ]
     },
     "metadata": {
      "needs_background": "light"
     },
     "output_type": "display_data"
    }
   ],
   "source": [
    "X = 2 * np.random.rand(100, 1)\n",
    "y = 4 + 3*X + np.random.rand(100, 1)\n",
    "\n",
    "plt.scatter(X, y)\n",
    "plt.show()"
   ]
  },
  {
   "cell_type": "code",
   "execution_count": 5,
   "metadata": {},
   "outputs": [
    {
     "data": {
      "image/png": "[encoded data removed]",
      "text/plain": [
       "<Figure size 432x288 with 1 Axes>"
      ]
     },
     "metadata": {
      "needs_background": "light"
     },
     "output_type": "display_data"
    }
   ],
   "source": [
    "ans = sns.load_dataset(\"anscombe\")\n",
    "ax = sns.regplot(x=\"x\", y=\"y\", data=ans,\n",
    "                 scatter_kws={\"s\": 80},\n",
    "                 order=2, ci=None, truncate=True)\n",
    "\n",
    "#sns.regplot(x=X, y=y, color='g')"
   ]
  },
  {
   "cell_type": "markdown",
   "metadata": {},
   "source": [
    "#### Compute $\\hat{\\theta}$ using the Normal Equation"
   ]
  },
  {
   "cell_type": "code",
   "execution_count": 6,
   "metadata": {},
   "outputs": [
    {
     "data": {
      "text/plain": [
       "array([[4.43816332],\n",
       "       [3.07272198]])"
      ]
     },
     "execution_count": 6,
     "metadata": {},
     "output_type": "execute_result"
    }
   ],
   "source": [
    "X_b = np.c_[np.ones((100,1)), X] # add x0 =1 to each instance\n",
    "theta_best = np.linalg.inv(X_b.T.dot(X_b)).dot(X_b.T).dot(y)\n",
    "theta_best"
   ]
  },
  {
   "cell_type": "markdown",
   "metadata": {},
   "source": [
    "#### Making a prediction using $\\hat{\\theta}$"
   ]
  },
  {
   "cell_type": "code",
   "execution_count": 7,
   "metadata": {},
   "outputs": [
    {
     "name": "stdout",
     "output_type": "stream",
     "text": [
      "[[ 4.43816332]\n",
      " [10.58360728]]\n"
     ]
    },
    {
     "data": {
      "image/png": "[encoded data removed]",
      "text/plain": [
       "<Figure size 432x288 with 1 Axes>"
      ]
     },
     "metadata": {
      "needs_background": "light"
     },
     "output_type": "display_data"
    }
   ],
   "source": [
    "X_new = np.array([[0], [2]])\n",
    "X_new_b = np.c_[np.ones((2,1)), X_new]\n",
    "y_pred = X_new_b.dot(theta_best)\n",
    "print(y_pred)\n",
    "\n",
    "plt.plot(X_new, y_pred, 'r-')\n",
    "plt.plot(X, y, 'b.')\n",
    "plt.axis([0,2,0,15])\n",
    "plt.show()"
   ]
  },
  {
   "cell_type": "markdown",
   "metadata": {},
   "source": [
    "### **Regularization**"
   ]
  },
  {
   "cell_type": "markdown",
   "metadata": {},
   "source": [
    "#### **Closed-form equation**"
   ]
  },
  {
   "cell_type": "code",
   "execution_count": 8,
   "metadata": {},
   "outputs": [
    {
     "data": {
      "text/plain": [
       "array([[9.00484886]])"
      ]
     },
     "execution_count": 8,
     "metadata": {},
     "output_type": "execute_result"
    }
   ],
   "source": [
    "from sklearn.linear_model import Ridge\n",
    "ridge_reg = Ridge(alpha = 1, solver = 'cholesky')\n",
    "ridge_reg.fit(X,y)\n",
    "ridge_reg.predict([[1.5]])"
   ]
  },
  {
   "cell_type": "markdown",
   "metadata": {},
   "source": [
    "#### **Gradient Descent**"
   ]
  },
  {
   "cell_type": "code",
   "execution_count": 10,
   "metadata": {},
   "outputs": [
    {
     "name": "stderr",
     "output_type": "stream",
     "text": [
      "/Users/mengchen/anaconda3/lib/python3.6/site-packages/sklearn/utils/validation.py:760: DataConversionWarning: A column-vector y was passed when a 1d array was expected. Please change the shape of y to (n_samples, ), for example using ravel().\n",
      "  y = column_or_1d(y, warn=True)\n"
     ]
    },
    {
     "data": {
      "text/plain": [
       "array([9.14396681])"
      ]
     },
     "execution_count": 10,
     "metadata": {},
     "output_type": "execute_result"
    }
   ],
   "source": [
    "from sklearn.linear_model import SGDRegressor\n",
    "sgd_reg = SGDRegressor(penalty = 'l2') \n",
    "sgd_reg.fit(X, y)\n",
    "sgd_reg.predict([[1.5]])"
   ]
  },
  {
   "cell_type": "markdown",
   "metadata": {},
   "source": [
    "#### **Lasso Regression**"
   ]
  },
  {
   "cell_type": "code",
   "execution_count": 11,
   "metadata": {},
   "outputs": [
    {
     "data": {
      "text/plain": [
       "array([8.90535576])"
      ]
     },
     "execution_count": 11,
     "metadata": {},
     "output_type": "execute_result"
    }
   ],
   "source": [
    "from sklearn.linear_model import Lasso # same the SGDRegressor(penalty = 'l1')\n",
    "lasso_reg = Lasso(alpha = 0.1)\n",
    "lasso_reg.fit(X, y)\n",
    "lasso_reg.predict([[1.5]])"
   ]
  },
  {
   "cell_type": "markdown",
   "metadata": {},
   "source": [
    "#### **Elastic Net**"
   ]
  },
  {
   "cell_type": "code",
   "execution_count": 12,
   "metadata": {},
   "outputs": [
    {
     "data": {
      "text/plain": [
       "array([8.79416831])"
      ]
     },
     "execution_count": 12,
     "metadata": {},
     "output_type": "execute_result"
    }
   ],
   "source": [
    "from sklearn.linear_model import ElasticNet\n",
    "elastic_net = ElasticNet(alpha = 0.1, l1_ratio = 0.5)\n",
    "elastic_net.fit(X, y)\n",
    "elastic_net.predict([[1.5]])"
   ]
  },
  {
   "cell_type": "markdown",
   "metadata": {},
   "source": [
    "#### **Early Stopping**\n",
    "stop training the model as the validation error reaches minimum"
   ]
  },
  {
   "cell_type": "code",
   "execution_count": null,
   "metadata": {},
   "outputs": [],
   "source": [
    "import numpy as np\n",
    "from sklearn.base import clone\n",
    "from sklearn.preprocessing import StandardScaler\n",
    "from sklearn.preprocessing import PolynomialFeatures\n",
    "from sklearn.model_selection import train_test_split\n",
    "from sklearn.metrics import mean_squared_error\n",
    "\n",
    "m = 100\n",
    "X = 6 * np.random.rand(m, 1) - 3\n",
    "y = 0.5 * X**2 + X + 2 + np.random.randn(m, 1)\n",
    "\n",
    "poly_features = PolynomialFeatures(degree = 2, include_bias =  False)\n",
    "X_poly = poly_features.fit_transform(X)\n",
    "X_train_poly, X_val_poly, y_train, y_val = train_test_split(X_poly, y, test_size = 0.2)\n",
    "\n",
    "scaler = StandardScaler()\n",
    "scaler.fit(X_train_poly)\n",
    "scaler.fit(X_val_poly)\n",
    "X_train_poly_scaled =  scaler.transform(X_train_poly)\n",
    "X_val_poly_scaled =  scaler.transform(X_val_poly)\n",
    "\n",
    "sgd_reg =  SGDRegressor(warm_start = True, penalty = None, learning_rate = 'constant', eta0 = 0.0005)\n",
    "\n",
    "minimum_val_error = float('inf')\n",
    "best_epoch = None\n",
    "best_model = None\n",
    "for epoch in range(1000):\n",
    "    sgd_reg.fit(X_train_poly_scaled, y_train)\n",
    "    y_val_pred = sgd_reg.predict(X_val_poly_scaled)\n",
    "    val_error = mean_squared_error(y_val_pred, y_val)\n",
    "    if val_error < minimum_val_error:\n",
    "        minimum_val_error = val_error\n",
    "        best_epoch = epoch\n",
    "        best_model = clone(sgd_reg)\n",
    "\n",
    "best_epoch\n",
    "best_model"
   ]
  },
  {
   "cell_type": "code",
   "execution_count": null,
   "metadata": {},
   "outputs": [],
   "source": []
  }
 ],
 "metadata": {
  "kernelspec": {
   "display_name": "Python 3",
   "language": "python",
   "name": "python3"
  },
  "language_info": {
   "codemirror_mode": {
    "name": "ipython",
    "version": 3
   },
   "file_extension": ".py",
   "mimetype": "text/x-python",
   "name": "python",
   "nbconvert_exporter": "python",
   "pygments_lexer": "ipython3",
   "version": "3.6.8"
  }
 },
 "nbformat": 4,
 "nbformat_minor": 4
}
